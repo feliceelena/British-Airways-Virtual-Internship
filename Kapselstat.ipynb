{
  "cells": [
    {
      "cell_type": "code",
      "source": [
        "pip install xlsxwriter"
      ],
      "metadata": {
        "colab": {
          "base_uri": "https://localhost:8080/"
        },
        "id": "hRVijrVouEEp",
        "outputId": "04bd0c8e-d045-4281-9538-4511c7421667"
      },
      "execution_count": null,
      "outputs": [
        {
          "output_type": "stream",
          "name": "stdout",
          "text": [
            "Looking in indexes: https://pypi.org/simple, https://us-python.pkg.dev/colab-wheels/public/simple/\n",
            "Collecting xlsxwriter\n",
            "  Downloading XlsxWriter-3.1.0-py3-none-any.whl (152 kB)\n",
            "\u001b[2K     \u001b[90m━━━━━━━━━━━━━━━━━━━━━━━━━━━━━━━━━━━━━━━\u001b[0m \u001b[32m152.7/152.7 kB\u001b[0m \u001b[31m3.4 MB/s\u001b[0m eta \u001b[36m0:00:00\u001b[0m\n",
            "\u001b[?25hInstalling collected packages: xlsxwriter\n",
            "Successfully installed xlsxwriter-3.1.0\n"
          ]
        }
      ]
    },
    {
      "cell_type": "code",
      "source": [
        "from pandas.api.types import CategoricalDtype"
      ],
      "metadata": {
        "id": "FysdA0LnNI2J"
      },
      "execution_count": null,
      "outputs": []
    },
    {
      "cell_type": "code",
      "source": [
        "import pandas as pd\n",
        "import numpy as np\n",
        "import matplotlib.pyplot as plt\n",
        "from datetime import datetime\n",
        "from google.colab import drive\n",
        "import xlsxwriter\n",
        "drive.mount('/content/gdrive')"
      ],
      "metadata": {
        "id": "b4JOpMt3hpv8",
        "colab": {
          "base_uri": "https://localhost:8080/"
        },
        "outputId": "7f06b517-99b0-4efe-efdf-530b16cf2b94"
      },
      "execution_count": null,
      "outputs": [
        {
          "output_type": "stream",
          "name": "stdout",
          "text": [
            "Mounted at /content/gdrive\n"
          ]
        }
      ]
    },
    {
      "cell_type": "code",
      "source": [
        "from openpyxl import load_workbook"
      ],
      "metadata": {
        "id": "owtdm3Ngwwzb"
      },
      "execution_count": null,
      "outputs": []
    },
    {
      "cell_type": "markdown",
      "source": [
        "## Data Transformation"
      ],
      "metadata": {
        "id": "TkW4Pz4vwT-9"
      }
    },
    {
      "cell_type": "code",
      "source": [
        "link = \"https://archive.ics.uci.edu/ml/machine-learning-databases/00502/online_retail_II.xlsx\"\n",
        "df1 = pd.read_excel(link, sheet_name = \"Year 2009-2010\")\n",
        "df1.set_axis(['Invoice', 'Stock Code', 'Description', 'Quantity', 'Invoice Date', 'Price', 'Customer ID', 'Country'], axis='columns', inplace=True)"
      ],
      "metadata": {
        "colab": {
          "base_uri": "https://localhost:8080/"
        },
        "id": "A68F-ERpwgD-",
        "outputId": "15ffd238-e3f5-4a92-f703-729b0eafd2c7"
      },
      "execution_count": null,
      "outputs": [
        {
          "output_type": "stream",
          "name": "stderr",
          "text": [
            "<ipython-input-5-8808ed51a9bc>:3: FutureWarning: DataFrame.set_axis 'inplace' keyword is deprecated and will be removed in a future version. Use `obj = obj.set_axis(..., copy=False)` instead\n",
            "  df1.set_axis(['Invoice', 'Stock Code', 'Description', 'Quantity', 'Invoice Date', 'Price', 'Customer ID', 'Country'], axis='columns', inplace=True)\n"
          ]
        }
      ]
    },
    {
      "cell_type": "code",
      "source": [
        "link = \"https://archive.ics.uci.edu/ml/machine-learning-databases/00502/online_retail_II.xlsx\"\n",
        "df2 = pd.read_excel(link, sheet_name = \"Year 2010-2011\")\n",
        "df2.set_axis(['Invoice', 'Stock Code', 'Description', 'Quantity', 'Invoice Date', 'Price', 'Customer ID', 'Country'], axis='columns', inplace=True)"
      ],
      "metadata": {
        "colab": {
          "base_uri": "https://localhost:8080/"
        },
        "id": "czC29BTQaDV9",
        "outputId": "fe50f713-5fa5-4713-a682-ea8a012433ed"
      },
      "execution_count": null,
      "outputs": [
        {
          "output_type": "stream",
          "name": "stderr",
          "text": [
            "<ipython-input-6-f8b456e121d2>:3: FutureWarning: DataFrame.set_axis 'inplace' keyword is deprecated and will be removed in a future version. Use `obj = obj.set_axis(..., copy=False)` instead\n",
            "  df2.set_axis(['Invoice', 'Stock Code', 'Description', 'Quantity', 'Invoice Date', 'Price', 'Customer ID', 'Country'], axis='columns', inplace=True)\n"
          ]
        }
      ]
    },
    {
      "cell_type": "code",
      "source": [
        "# Melihat jumlah nilai kosong pada setiap dataframe\n",
        "print(\"Data tahun 2009-2010\")\n",
        "print(df1.isnull().sum())\n",
        "print(\"\\n\")\n",
        "print(\"Data tahun 2010-2011\")\n",
        "print(df2.isnull().sum())"
      ],
      "metadata": {
        "colab": {
          "base_uri": "https://localhost:8080/"
        },
        "id": "AsQrFwK9yipc",
        "outputId": "6bd8bd1d-53e2-4f97-8c0c-5668cc452a08"
      },
      "execution_count": null,
      "outputs": [
        {
          "output_type": "stream",
          "name": "stdout",
          "text": [
            "Data tahun 2009-2010\n",
            "Invoice              0\n",
            "Stock Code           0\n",
            "Description       2928\n",
            "Quantity             0\n",
            "Invoice Date         0\n",
            "Price                0\n",
            "Customer ID     107927\n",
            "Country              0\n",
            "dtype: int64\n",
            "\n",
            "\n",
            "Data tahun 2010-2011\n",
            "Invoice              0\n",
            "Stock Code           0\n",
            "Description       1454\n",
            "Quantity             0\n",
            "Invoice Date         0\n",
            "Price                0\n",
            "Customer ID     135080\n",
            "Country              0\n",
            "dtype: int64\n"
          ]
        }
      ]
    },
    {
      "cell_type": "markdown",
      "source": [
        "Pada data tahun 2009-2010, terdapat 2.928 *missing values* pada variabel \"Description\", dan 107.927 *missing values* pada variabel \"Customer ID\". Sedangkan di data tahun 2010-2011, terdapat 1.454 *missing values* pada variabel \"Description\", dan 135.080 *missing values* pada variabel \"Customer ID\"."
      ],
      "metadata": {
        "id": "fVBh3ifouf2b"
      }
    },
    {
      "cell_type": "code",
      "source": [
        "def dropNull(df):\n",
        "  df[\"Description\"] = df[\"Description\"].astype('string')\n",
        "  df[\"Customer ID\"] = df[\"Customer ID\"].astype('string')\n",
        "\n",
        "  df[\"Description\"].fillna(\"empty\", inplace = True)\n",
        "  df[\"Customer ID\"].fillna(\"empty\", inplace = True)\n",
        "\n",
        "  df[\"DESC\"] = list(map(lambda x: x.islower(), df['Description']))\n",
        "  df[\"CUST\"] = list(map(lambda x: x.islower(), df['Customer ID']))\n",
        "\n",
        "  df_filtered1 = df[df['DESC'] == True].index\n",
        "  df.drop(df_filtered1, inplace = True)\n",
        "  df.drop('DESC', inplace = True, axis = 1)\n",
        "\n",
        "  df_filtered2 = df[df['CUST'] == True].index\n",
        "  df.drop(df_filtered2, inplace = True)\n",
        "  df.drop('CUST', inplace = True, axis = 1)"
      ],
      "metadata": {
        "id": "8RtlSt6U761s"
      },
      "execution_count": null,
      "outputs": []
    },
    {
      "cell_type": "code",
      "source": [
        "# Menghilangkan missing value dari dataframe\n",
        "dropNull(df1)\n",
        "dropNull(df2)"
      ],
      "metadata": {
        "id": "WHOYXc9-YsZT"
      },
      "execution_count": null,
      "outputs": []
    },
    {
      "cell_type": "code",
      "source": [
        "# Hasil dari pembersihan data\n",
        "print(\"Data tahun 2009-2010\")\n",
        "print(df1.isnull().sum())\n",
        "print(\"\\n\")\n",
        "print(\"Data tahun 2010-2011\")\n",
        "print(df2.isnull().sum())"
      ],
      "metadata": {
        "colab": {
          "base_uri": "https://localhost:8080/"
        },
        "id": "y6aHsNPvdini",
        "outputId": "2bd7e66e-9706-431d-e1fe-1e5595a7bd0f"
      },
      "execution_count": null,
      "outputs": [
        {
          "output_type": "stream",
          "name": "stdout",
          "text": [
            "Data tahun 2009-2010\n",
            "Invoice         0\n",
            "Stock Code      0\n",
            "Description     0\n",
            "Quantity        0\n",
            "Invoice Date    0\n",
            "Price           0\n",
            "Customer ID     0\n",
            "Country         0\n",
            "dtype: int64\n",
            "\n",
            "\n",
            "Data tahun 2010-2011\n",
            "Invoice         0\n",
            "Stock Code      0\n",
            "Description     0\n",
            "Quantity        0\n",
            "Invoice Date    0\n",
            "Price           0\n",
            "Customer ID     0\n",
            "Country         0\n",
            "dtype: int64\n"
          ]
        }
      ]
    },
    {
      "cell_type": "markdown",
      "source": [
        "Dapat dilihat bahwa fungsi yang dibuat sudah berhasil menghilangkan *missing value* dari kedua database."
      ],
      "metadata": {
        "id": "Dw_V7E-8dyks"
      }
    },
    {
      "cell_type": "code",
      "source": [
        "# Menghapus data pemesanan yang batal dimana nilai quantity nya negatif\n",
        "# Menghapus data penjualan dari barang yang gratis\n",
        "def dropNeg(df):\n",
        "  df.drop(df[df['Quantity'] < 0].index, inplace = True)\n",
        "  df.drop(df[df['Price'] == 0]. index, inplace = True)\n",
        "  df.drop(df[df['Stock Code'] == \"ADJUST\"].index, inplace = True)\n",
        "\n",
        "dropNeg(df1)\n",
        "dropNeg(df2)\n"
      ],
      "metadata": {
        "id": "LpArIjeYyvhy"
      },
      "execution_count": null,
      "outputs": []
    },
    {
      "cell_type": "markdown",
      "source": [
        "## Data Analysis"
      ],
      "metadata": {
        "id": "bHsA7FKAwgoh"
      }
    },
    {
      "cell_type": "code",
      "source": [
        "def extractData(dataset, sheet, columns):\n",
        "  global df\n",
        "  df = pd.read_excel(dataset, sheet_name = sheet, usecols = columns)\n",
        "  return df\n",
        "\n",
        "#INI GAKEPAKE SETDATATYPE\n",
        "def setDataType(df):\n",
        "  df[\"Customer ID\"] = df[\"Customer ID\"].astype('string')\n",
        "  df[\"Day\"] = df[\"Day\"].astype('string')\n",
        "  df[\"Month\"] = df[\"Month\"].astype('string')\n",
        "  df[\"Year\"] = df[\"Year\"].astype('string')\n",
        "\n",
        "def setData(dataframe, columns):\n",
        "  global df\n",
        "  df = dataframe\n",
        "  df['Day'] = pd.DatetimeIndex(df['Invoice Date']).day\n",
        "  df['Month'] = pd.DatetimeIndex(df['Invoice Date']).month\n",
        "  df['Year'] = pd.DatetimeIndex(df['Invoice Date']).year\n",
        "  df.set_axis(['Invoice', 'Stock Code', 'Description', 'Quantity', 'Invoice Date', 'Price', 'Customer ID', 'Country', 'Day', 'Month', 'Year'], axis='columns', inplace=True)\n",
        "  df = df[columns]\n",
        "  return df\n",
        "\n",
        "\n",
        "\n"
      ],
      "metadata": {
        "id": "TOkKmRM7eOgh"
      },
      "execution_count": null,
      "outputs": []
    },
    {
      "cell_type": "code",
      "source": [
        "#### Extract Dataset\n",
        "\n",
        "dataCustomer1 = setData(df1, [\"Quantity\", \"Country\", \"Customer ID\", \"Price\"])\n",
        "# dataProduct1 = setData(df1, [\"Quantity\", \"Description\", \"Price\", \"Year\", \"Month\", \"Day\"])\n",
        "dataProduct1 = setData(df1, [\"Description\"])\n",
        "dataSales1 = setData(df1, [\"Quantity\", \"Description\", \"Price\", \"Year\", \"Month\", \"Day\"])\n",
        "\n",
        "#### Convert datatype for \"Customer ID\"\n",
        "# setDataType(dataCustomer1)\n",
        "# setDataType(dataSales1)\n",
        "# setDataType(dataCustomer2)\n",
        "\n",
        "#### Create new columns \"Total Value\"\n",
        "dataCustomer1[\"Total Value\"] = dataCustomer1[\"Quantity\"]*dataCustomer1[\"Price\"]\n",
        "dataSales1[\"Total Value\"] = dataSales1[\"Quantity\"]*dataSales1[\"Price\"]\n"
      ],
      "metadata": {
        "id": "DNV--gVaYQTC",
        "colab": {
          "base_uri": "https://localhost:8080/"
        },
        "outputId": "7da364d8-26bd-461a-ce0a-39ec2cb38b5a"
      },
      "execution_count": null,
      "outputs": [
        {
          "output_type": "stream",
          "name": "stderr",
          "text": [
            "<ipython-input-10-aef69038250a>:19: FutureWarning: DataFrame.set_axis 'inplace' keyword is deprecated and will be removed in a future version. Use `obj = obj.set_axis(..., copy=False)` instead\n",
            "  df.set_axis(['Invoice', 'Stock Code', 'Description', 'Quantity', 'Invoice Date', 'Price', 'Customer ID', 'Country', 'Day', 'Month', 'Year'], axis='columns', inplace=True)\n",
            "<ipython-input-10-aef69038250a>:19: FutureWarning: DataFrame.set_axis 'inplace' keyword is deprecated and will be removed in a future version. Use `obj = obj.set_axis(..., copy=False)` instead\n",
            "  df.set_axis(['Invoice', 'Stock Code', 'Description', 'Quantity', 'Invoice Date', 'Price', 'Customer ID', 'Country', 'Day', 'Month', 'Year'], axis='columns', inplace=True)\n",
            "<ipython-input-10-aef69038250a>:19: FutureWarning: DataFrame.set_axis 'inplace' keyword is deprecated and will be removed in a future version. Use `obj = obj.set_axis(..., copy=False)` instead\n",
            "  df.set_axis(['Invoice', 'Stock Code', 'Description', 'Quantity', 'Invoice Date', 'Price', 'Customer ID', 'Country', 'Day', 'Month', 'Year'], axis='columns', inplace=True)\n",
            "<ipython-input-11-da4fc98c7f0a>:14: SettingWithCopyWarning: \n",
            "A value is trying to be set on a copy of a slice from a DataFrame.\n",
            "Try using .loc[row_indexer,col_indexer] = value instead\n",
            "\n",
            "See the caveats in the documentation: https://pandas.pydata.org/pandas-docs/stable/user_guide/indexing.html#returning-a-view-versus-a-copy\n",
            "  dataCustomer1[\"Total Value\"] = dataCustomer1[\"Quantity\"]*dataCustomer1[\"Price\"]\n",
            "<ipython-input-11-da4fc98c7f0a>:15: SettingWithCopyWarning: \n",
            "A value is trying to be set on a copy of a slice from a DataFrame.\n",
            "Try using .loc[row_indexer,col_indexer] = value instead\n",
            "\n",
            "See the caveats in the documentation: https://pandas.pydata.org/pandas-docs/stable/user_guide/indexing.html#returning-a-view-versus-a-copy\n",
            "  dataSales1[\"Total Value\"] = dataSales1[\"Quantity\"]*dataSales1[\"Price\"]\n"
          ]
        }
      ]
    },
    {
      "cell_type": "code",
      "source": [
        "#### Extract Dataset\n",
        "dataCustomer2 = setData(df2, [\"Quantity\", \"Country\", \"Customer ID\", \"Price\"])\n",
        "dataProduct2 = setData(df2, [\"Description\"])\n",
        "dataSales2 = setData(df2, [\"Quantity\", \"Description\", \"Price\", \"Year\", \"Month\", \"Day\"])\n",
        "\n",
        "#### Convert datatype for \"Customer ID\"\n",
        "# setDataType(dataCustomer2)\n",
        "# setDataType(dataSales2)\n",
        "\n",
        "#### Create new columns \"Total Value\"\n",
        "dataCustomer2[\"Total Value\"] = dataCustomer2[\"Quantity\"]*dataCustomer2[\"Price\"]\n",
        "dataSales2[\"Total Value\"] = dataSales2[\"Quantity\"]*dataSales2[\"Price\"]"
      ],
      "metadata": {
        "id": "bFd16I4g8rTb",
        "colab": {
          "base_uri": "https://localhost:8080/"
        },
        "outputId": "854b12aa-02d3-4692-d317-249e096a5a91"
      },
      "execution_count": null,
      "outputs": [
        {
          "output_type": "stream",
          "name": "stderr",
          "text": [
            "<ipython-input-10-aef69038250a>:19: FutureWarning: DataFrame.set_axis 'inplace' keyword is deprecated and will be removed in a future version. Use `obj = obj.set_axis(..., copy=False)` instead\n",
            "  df.set_axis(['Invoice', 'Stock Code', 'Description', 'Quantity', 'Invoice Date', 'Price', 'Customer ID', 'Country', 'Day', 'Month', 'Year'], axis='columns', inplace=True)\n",
            "<ipython-input-10-aef69038250a>:19: FutureWarning: DataFrame.set_axis 'inplace' keyword is deprecated and will be removed in a future version. Use `obj = obj.set_axis(..., copy=False)` instead\n",
            "  df.set_axis(['Invoice', 'Stock Code', 'Description', 'Quantity', 'Invoice Date', 'Price', 'Customer ID', 'Country', 'Day', 'Month', 'Year'], axis='columns', inplace=True)\n",
            "<ipython-input-10-aef69038250a>:19: FutureWarning: DataFrame.set_axis 'inplace' keyword is deprecated and will be removed in a future version. Use `obj = obj.set_axis(..., copy=False)` instead\n",
            "  df.set_axis(['Invoice', 'Stock Code', 'Description', 'Quantity', 'Invoice Date', 'Price', 'Customer ID', 'Country', 'Day', 'Month', 'Year'], axis='columns', inplace=True)\n",
            "<ipython-input-12-ccef6cadd2b0>:11: SettingWithCopyWarning: \n",
            "A value is trying to be set on a copy of a slice from a DataFrame.\n",
            "Try using .loc[row_indexer,col_indexer] = value instead\n",
            "\n",
            "See the caveats in the documentation: https://pandas.pydata.org/pandas-docs/stable/user_guide/indexing.html#returning-a-view-versus-a-copy\n",
            "  dataCustomer2[\"Total Value\"] = dataCustomer2[\"Quantity\"]*dataCustomer2[\"Price\"]\n",
            "<ipython-input-12-ccef6cadd2b0>:12: SettingWithCopyWarning: \n",
            "A value is trying to be set on a copy of a slice from a DataFrame.\n",
            "Try using .loc[row_indexer,col_indexer] = value instead\n",
            "\n",
            "See the caveats in the documentation: https://pandas.pydata.org/pandas-docs/stable/user_guide/indexing.html#returning-a-view-versus-a-copy\n",
            "  dataSales2[\"Total Value\"] = dataSales2[\"Quantity\"]*dataSales2[\"Price\"]\n"
          ]
        }
      ]
    },
    {
      "cell_type": "code",
      "source": [
        "dataFrame_list = list()\n",
        "dataFrame_desc = list()\n",
        "\n",
        "def dfList(dataframe):\n",
        "  dataFrame_list.append(df)\n",
        "  return dataFrame_list\n",
        "\n",
        "def dfDesc(description):\n",
        "  dataFrame_desc.append(description)\n",
        "  return dataFrame_desc\n",
        "\n",
        "def top(data, col_reference, nrows, description):\n",
        "\n",
        "  data[\"Total Value\"] = data[\"Quantity\"] * data[\"Price\"]\n",
        "  top = data.groupby(col_reference)[\"Quantity\", \"Total Value\"].sum()\n",
        "  tops = top.sort_values(by = [\"Total Value\"], ascending = False). iloc[:nrows,:]\n",
        "  list = tops.index.tolist()\n",
        "  # dataFrame_desc = dfDesc(description)\n",
        "  return tops, list\n",
        "\n",
        "def top2(data, col_reference, col_list, description):\n",
        "  data[\"Total Value\"] = data[\"Quantity\"] * data[\"Price\"]\n",
        "  top = data.groupby(col_reference)[\"Quantity\", \"Total Value\"].sum()\n",
        "  tops = top.loc[col_list]\n",
        "  # dataFrame_desc = dfDesc(description)\n",
        "  return tops\n",
        "\n",
        "# topPRODUCT = top(dataSales2, \"Description\", 11, \"Top 10 best selling product in 2010-2011\")\n",
        "# dataFrame_list.append(topPRODUCT[0])\n",
        "topCOUNTRY1 = top(dataCustomer1, \"Country\", 10, \"Top 10 Country in 2009-2010\")\n",
        "topCOUNTRY2 = top(dataCustomer2, \"Country\", 10, \"Top 10 Country in 2010-2011\")\n",
        "# dataFrame_list.append(topCOUNTRY[0])\n",
        "# topCUSTOMERS = top(dataCustomer2, \"Customer ID\", 11, \"Top 10 Customer in 2010-2011\")\n",
        "# dataFrame_list.append(topCUSTOMERS[0])\n",
        "\n",
        "#### Top 10 in 2009-2010\n",
        "# topCountry1 = top(dataCustomer1,\"Country\",11, \"Top 10 countries with largest purchases in 2009-2010\")\n",
        "# dataFrame_list.append(topCountry1[0])\n",
        "# topCountry2 = top2(dataCustomer2, \"Country\", topCountry1[1], \"Top 10 countries with largest purchases in 2010-2011\")\n",
        "# dataFrame_list.append(topCountry2)\n",
        "\n",
        "\n",
        "\n",
        "\n",
        "# topCustomer1 = top(dataCustomer1, \"Customer ID\", 11, \"Top 10 customers with largest purchases in 2009-2010\")\n",
        "# dataFrame_list.append(topCustomer1[0])\n",
        "# topCustomer2 = top2(dataCustomer2, \"Customer ID\", topCustomer1[1], \"Top 10 customers with largest purchases in 2010-2011\")\n",
        "# dataFrame_list.append(topCustomer2)\n",
        "\n",
        "# topSales1 = top(dataSales1, \"Description\", 11, \"Top 10 best selling products in 2009-2010\")\n",
        "# dataFrame_list.append(topSales1[0])\n",
        "# topSales2 = top2(dataSales2, \"Description\", topSales1[1], \"Top 10 best selling products in 2010-2011\")\n",
        "# dataFrame_list.append(topSales2)\n",
        "\n",
        "# topMonth1 = top(dataSales1, \"Month\", 12, \"Revenue per Month in 2009-2010\")\n",
        "# dataFrame_list.append(topMonth1[0])\n",
        "\n",
        "# topMonth2 = top2(dataSales2, \"Month\", topMonth1[1], \"Revenue per Month in 2010-2011\")\n",
        "# dataFrame_list.append(topMonth2)\n",
        "\n",
        "\n",
        "\n",
        "print(topCOUNTRY1[1])\n",
        "\n",
        "print(topCOUNTRY2[1])\n",
        "\n",
        "\n",
        "# #### Top 10 in 2010-2011\n",
        "# topCountry2 = top(dataCustomer2,\"Country\",10, \"Top 10 countries with largest purchases in 2010-2011\")\n",
        "# topCustomer2 = top(dataCustomer2, \"Customer ID\", 10, \"Top 10 customers with largest purchases in 2010-2011\")\n",
        "# topSales2 = top(dataSales2, \"Description\", 10, \"Top 10 best selling products in 2010-2011\")\n",
        "# topMonth2 = top(dataSales2, \"Month\", 12, \"Months with largest revenue in 2010-2011\")\n",
        "\n",
        "\n",
        "\n",
        "\n"
      ],
      "metadata": {
        "id": "CmOVlgJ3Iwdb",
        "colab": {
          "base_uri": "https://localhost:8080/"
        },
        "outputId": "27ba682c-d8ae-4a94-afba-9035db950318"
      },
      "execution_count": null,
      "outputs": [
        {
          "output_type": "stream",
          "name": "stdout",
          "text": [
            "['United Kingdom', 'EIRE', 'Netherlands', 'Germany', 'France', 'Sweden', 'Denmark', 'Spain', 'Switzerland', 'Australia']\n",
            "['United Kingdom', 'Netherlands', 'EIRE', 'Germany', 'France', 'Australia', 'Spain', 'Switzerland', 'Belgium', 'Sweden']\n"
          ]
        },
        {
          "output_type": "stream",
          "name": "stderr",
          "text": [
            "<ipython-input-59-ce94e8d025f1>:14: SettingWithCopyWarning: \n",
            "A value is trying to be set on a copy of a slice from a DataFrame.\n",
            "Try using .loc[row_indexer,col_indexer] = value instead\n",
            "\n",
            "See the caveats in the documentation: https://pandas.pydata.org/pandas-docs/stable/user_guide/indexing.html#returning-a-view-versus-a-copy\n",
            "  data[\"Total Value\"] = data[\"Quantity\"] * data[\"Price\"]\n",
            "<ipython-input-59-ce94e8d025f1>:15: FutureWarning: Indexing with multiple keys (implicitly converted to a tuple of keys) will be deprecated, use a list instead.\n",
            "  top = data.groupby(col_reference)[\"Quantity\", \"Total Value\"].sum()\n",
            "<ipython-input-59-ce94e8d025f1>:14: SettingWithCopyWarning: \n",
            "A value is trying to be set on a copy of a slice from a DataFrame.\n",
            "Try using .loc[row_indexer,col_indexer] = value instead\n",
            "\n",
            "See the caveats in the documentation: https://pandas.pydata.org/pandas-docs/stable/user_guide/indexing.html#returning-a-view-versus-a-copy\n",
            "  data[\"Total Value\"] = data[\"Quantity\"] * data[\"Price\"]\n",
            "<ipython-input-59-ce94e8d025f1>:15: FutureWarning: Indexing with multiple keys (implicitly converted to a tuple of keys) will be deprecated, use a list instead.\n",
            "  top = data.groupby(col_reference)[\"Quantity\", \"Total Value\"].sum()\n"
          ]
        }
      ]
    },
    {
      "cell_type": "code",
      "source": [
        "# df_filtered1 = df[df['DESC'] == True].index\n",
        "#   df.drop(df_filtered1, inplace = True)\n",
        "#   df.drop('DESC', inplace = True, axis = 1)\n",
        "dataFrame_list = list()\n",
        "dataFrame_desc = list()\n",
        "\n",
        "def dfList(dataframe):\n",
        "  dataFrame_list.append(df)\n",
        "  return dataFrame_list\n",
        "\n",
        "def dfDesc(description):\n",
        "  dataFrame_desc.append(description)\n",
        "  return dataFrame_desc\n",
        "\n",
        "# df.drop(df[df['Quantity'] < 0].index, inplace = True)\n",
        "def topS(data, col_reference, nrows, description):\n",
        "  data.drop(data[data[col_reference] == \"PACK OF 72 RETRO SPOT CAKE CASES\"]. index, inplace = True)\n",
        "  data.drop(data[data[col_reference] == \"BLACK AND WHITE PAISLEY FLOWER MUG\"]. index, inplace = True)\n",
        "  # filter1 = data[data[col_reference] == \"PACK OF 72 RETRO SPOT CAKE CASES\"]\n",
        "  # filter2 = data[data[col_reference] == \"BLACK AND WHITE PAISLEY FLOWER MUG\"]\n",
        "  # data.drop(filter1, inplace = True)\n",
        "  # data.drop(filter2, inplace = True)\n",
        "  data[\"Total Value\"] = data[\"Quantity\"] * data[\"Price\"]\n",
        "  top = data.groupby(col_reference)[\"Quantity\", \"Total Value\"].sum()\n",
        "  tops = top.sort_values(by = [\"Quantity\"], ascending = False). iloc[:nrows,:]\n",
        "  list = tops.index.tolist()\n",
        "  dataFrame_desc = dfDesc(description)\n",
        "  return tops, list\n",
        "\n",
        "def topS2(data, col_reference, col_list, description):\n",
        "  data[\"Total Value\"] = data[\"Quantity\"] * data[\"Price\"]\n",
        "  top = data.groupby(col_reference)[\"Quantity\", \"Total Value\"].sum()\n",
        "  tops = top.loc[col_list]\n",
        "  dataFrame_desc = dfDesc(description)\n",
        "  return tops\n",
        "\n",
        "topSales1 = topS(dataSales1, \"Description\", 11, \"Top 10 best selling products in 2009-2010\")\n",
        "dataFrame_list.append(topSales1[0])\n",
        "topSales2 = topS2(dataSales2, \"Description\", topSales1[1], \"Top 10 best selling products in 2010-2011\")\n",
        "dataFrame_list.append(topSales2)\n",
        "# print(topSales1)\n",
        "# print(topSales2)\n",
        "# dataSales1[\"Description\"].head()"
      ],
      "metadata": {
        "colab": {
          "base_uri": "https://localhost:8080/"
        },
        "id": "iMMgnVslfTvP",
        "outputId": "18709c2f-d893-44c6-cfce-8eff25dc1aaa"
      },
      "execution_count": null,
      "outputs": [
        {
          "output_type": "stream",
          "name": "stderr",
          "text": [
            "<ipython-input-32-1868149128a2>:17: SettingWithCopyWarning: \n",
            "A value is trying to be set on a copy of a slice from a DataFrame\n",
            "\n",
            "See the caveats in the documentation: https://pandas.pydata.org/pandas-docs/stable/user_guide/indexing.html#returning-a-view-versus-a-copy\n",
            "  data.drop(data[data[col_reference] == \"PACK OF 72 RETRO SPOT CAKE CASES\"]. index, inplace = True)\n",
            "<ipython-input-32-1868149128a2>:18: SettingWithCopyWarning: \n",
            "A value is trying to be set on a copy of a slice from a DataFrame\n",
            "\n",
            "See the caveats in the documentation: https://pandas.pydata.org/pandas-docs/stable/user_guide/indexing.html#returning-a-view-versus-a-copy\n",
            "  data.drop(data[data[col_reference] == \"BLACK AND WHITE PAISLEY FLOWER MUG\"]. index, inplace = True)\n",
            "<ipython-input-32-1868149128a2>:23: SettingWithCopyWarning: \n",
            "A value is trying to be set on a copy of a slice from a DataFrame.\n",
            "Try using .loc[row_indexer,col_indexer] = value instead\n",
            "\n",
            "See the caveats in the documentation: https://pandas.pydata.org/pandas-docs/stable/user_guide/indexing.html#returning-a-view-versus-a-copy\n",
            "  data[\"Total Value\"] = data[\"Quantity\"] * data[\"Price\"]\n",
            "<ipython-input-32-1868149128a2>:24: FutureWarning: Indexing with multiple keys (implicitly converted to a tuple of keys) will be deprecated, use a list instead.\n",
            "  top = data.groupby(col_reference)[\"Quantity\", \"Total Value\"].sum()\n",
            "<ipython-input-32-1868149128a2>:31: SettingWithCopyWarning: \n",
            "A value is trying to be set on a copy of a slice from a DataFrame.\n",
            "Try using .loc[row_indexer,col_indexer] = value instead\n",
            "\n",
            "See the caveats in the documentation: https://pandas.pydata.org/pandas-docs/stable/user_guide/indexing.html#returning-a-view-versus-a-copy\n",
            "  data[\"Total Value\"] = data[\"Quantity\"] * data[\"Price\"]\n",
            "<ipython-input-32-1868149128a2>:32: FutureWarning: Indexing with multiple keys (implicitly converted to a tuple of keys) will be deprecated, use a list instead.\n",
            "  top = data.groupby(col_reference)[\"Quantity\", \"Total Value\"].sum()\n"
          ]
        }
      ]
    },
    {
      "cell_type": "code",
      "source": [
        "#### Total Revenue 2009-2010 and 2010-2011\n",
        "# dataFrame_list.pop()\n",
        "# dataFrame_desc.pop()\n",
        "revenue1 = dataSales1[\"Total Value\"].sum()\n",
        "revenue2 = dataSales2[\"Total Value\"].sum()\n",
        "quantity1 = dataSales1[\"Quantity\"].sum()\n",
        "quantity2 = dataSales2[\"Quantity\"].sum()\n",
        "revenue = {'Year': ['Year 2009-2010', 'Year 2010-2011'],\n",
        "        'Revenue': [revenue1, revenue2],\n",
        "        'Quantity' : [quantity1, quantity2]}\n",
        "totalRevenue = pd.DataFrame(revenue)\n",
        "dataFrame_list.append(totalRevenue)\n",
        "dataFrame_desc.append(\"Total Revenue 2009-2010 and 2010-2011\")\n",
        "\n",
        "# print(totalRevenue)"
      ],
      "metadata": {
        "id": "vENfM3Rm7d3B"
      },
      "execution_count": null,
      "outputs": []
    },
    {
      "cell_type": "code",
      "source": [
        "#### Weeks of purchases in 2009-2010 and 2010-2011\n",
        "dataWeek1 = setData(df1, [\"Country\",\"Quantity\", \"Description\", \"Price\", \"Year\", \"Month\", \"Day\"])\n",
        "dataWeek2 = setData(df2, [\"Country\",\"Quantity\", \"Description\", \"Price\", \"Year\", \"Month\", \"Day\"])\n",
        "\n",
        "def weekPurchases(df):\n",
        "\n",
        "  conditions = [\n",
        "      (df['Day'] <= 10),\n",
        "      (df['Day'] > 10) & (df['Day'] <= 20),\n",
        "      (df['Day'] > 20) & (df['Day'] <= 31),\n",
        "      ]\n",
        "  values = ['Early month', 'Mid month', 'Late month']\n",
        "\n",
        "  df['Week of purchases'] = np.select(conditions, values)\n",
        "  df[\"Total Value\"] = df[\"Quantity\"]*df[\"Price\"]\n",
        "\n",
        "  # if df is dataWeek1:\n",
        "  #   countrySort = topCountry1[2]\n",
        "  # elif df is dataWeek2:\n",
        "    # countrySort = topCountry2.index.tolist()\n",
        "\n",
        "  countrySort = topCOUNTRY2[1]\n",
        "  list = []\n",
        "  for country in countrySort:\n",
        "    for i in values:\n",
        "      tuple = (country, i)\n",
        "      list.append(tuple)\n",
        "\n",
        "  tops = df.groupby([\"Country\",\"Week of purchases\"])[\"Quantity\", \"Total Value\"].sum()\n",
        "  tops = tops.sort_values(by = \"Total Value\", ascending = False)\n",
        "  output = tops.reindex(list)\n",
        "  return output\n",
        "\n",
        "# weekYear1 = weekPurchases(dataWeek1)\n",
        "# dataFrame_list.append(weekYear1)\n",
        "# dataFrame_desc.append(\"Week of Purchases based on country in 2009-2010\")\n",
        "\n",
        "weekYear2 = weekPurchases(dataWeek2)\n",
        "dataFrame_list.append(weekYear2)\n",
        "dataFrame_desc.append(\"Week of Purchases based on country in 2010-2011\")\n",
        "\n",
        "# print(weekYear2)\n"
      ],
      "metadata": {
        "colab": {
          "base_uri": "https://localhost:8080/"
        },
        "id": "lcT-KRsG-Rz2",
        "outputId": "7b57ce83-ad10-4a10-a49e-4c3c7d3fec8b"
      },
      "execution_count": null,
      "outputs": [
        {
          "output_type": "stream",
          "name": "stderr",
          "text": [
            "<ipython-input-10-aef69038250a>:19: FutureWarning: DataFrame.set_axis 'inplace' keyword is deprecated and will be removed in a future version. Use `obj = obj.set_axis(..., copy=False)` instead\n",
            "  df.set_axis(['Invoice', 'Stock Code', 'Description', 'Quantity', 'Invoice Date', 'Price', 'Customer ID', 'Country', 'Day', 'Month', 'Year'], axis='columns', inplace=True)\n",
            "<ipython-input-10-aef69038250a>:19: FutureWarning: DataFrame.set_axis 'inplace' keyword is deprecated and will be removed in a future version. Use `obj = obj.set_axis(..., copy=False)` instead\n",
            "  df.set_axis(['Invoice', 'Stock Code', 'Description', 'Quantity', 'Invoice Date', 'Price', 'Customer ID', 'Country', 'Day', 'Month', 'Year'], axis='columns', inplace=True)\n",
            "<ipython-input-61-b21fe6f1e8fa>:14: SettingWithCopyWarning: \n",
            "A value is trying to be set on a copy of a slice from a DataFrame.\n",
            "Try using .loc[row_indexer,col_indexer] = value instead\n",
            "\n",
            "See the caveats in the documentation: https://pandas.pydata.org/pandas-docs/stable/user_guide/indexing.html#returning-a-view-versus-a-copy\n",
            "  df['Week of purchases'] = np.select(conditions, values)\n",
            "<ipython-input-61-b21fe6f1e8fa>:15: SettingWithCopyWarning: \n",
            "A value is trying to be set on a copy of a slice from a DataFrame.\n",
            "Try using .loc[row_indexer,col_indexer] = value instead\n",
            "\n",
            "See the caveats in the documentation: https://pandas.pydata.org/pandas-docs/stable/user_guide/indexing.html#returning-a-view-versus-a-copy\n",
            "  df[\"Total Value\"] = df[\"Quantity\"]*df[\"Price\"]\n",
            "<ipython-input-61-b21fe6f1e8fa>:29: FutureWarning: Indexing with multiple keys (implicitly converted to a tuple of keys) will be deprecated, use a list instead.\n",
            "  tops = df.groupby([\"Country\",\"Week of purchases\"])[\"Quantity\", \"Total Value\"].sum()\n"
          ]
        }
      ]
    },
    {
      "cell_type": "code",
      "source": [
        "def holidayStats(df, holiday):\n",
        "  if holiday.lower() == \"christmas\":\n",
        "    data = df.loc[(df[\"Month\"] == 12) & (df[\"Day\"] >= 1) & (df[\"Day\"] <= 24)]\n",
        "    sumQ = data[\"Quantity\"].sum()\n",
        "    sumT = data[\"Total Value\"].sum()\n",
        "\n",
        "  elif holiday.lower() == \"chinese\":\n",
        "    if df is dataSales1:\n",
        "      data = df.loc[((df[\"Month\"] == 1) & (df[\"Day\"] >= 14)) | ((df[\"Month\"] == 2) & (df[\"Day\"] <= 14))]\n",
        "    else:\n",
        "      data = df.loc[((df[\"Month\"] == 1) & (df[\"Day\"] >= 3)) | ((df[\"Month\"] == 2) & (df[\"Day\"] <= 3))]\n",
        "    sumQ = data[\"Quantity\"].sum()\n",
        "    sumT = data[\"Total Value\"].sum()\n",
        "\n",
        "  elif holiday.lower() == \"ramadan\":\n",
        "    if df is dataSales1:\n",
        "      data = df.loc[((df[\"Month\"] == 8) & (df[\"Day\"] >= 11)) | ((df[\"Month\"] == 9) & (df[\"Day\"] <= 9))]\n",
        "    else:\n",
        "      data = df.loc[(df[\"Month\"] == 8) & (df[\"Day\"] >= 1) & (df[\"Day\"] <= 30)]\n",
        "    sumQ = data[\"Quantity\"].sum()\n",
        "    sumT = data[\"Total Value\"].sum()\n",
        "\n",
        "  elif holiday.lower() == \"valentine\":\n",
        "    data = df.loc[((df[\"Month\"] == 1) & (df[\"Day\"] >= 14)) | ((df[\"Month\"] == 2) & (df[\"Day\"] <= 14))]\n",
        "    sumQ = data[\"Quantity\"].sum()\n",
        "    sumT = data[\"Total Value\"].sum()\n",
        "\n",
        "  elif holiday.lower() == \"easter\":\n",
        "    if df is dataSales1:\n",
        "      data = df.loc[((df[\"Month\"] == 3) & (df[\"Day\"] >= 4)) | ((df[\"Month\"] == 4) & (df[\"Day\"] <= 4))]\n",
        "    else:\n",
        "      data = df.loc[((df[\"Month\"] == 3) & (df[\"Day\"] >= 24)) | ((df[\"Month\"] == 4) & (df[\"Day\"] <= 24))]\n",
        "    sumQ = data[\"Quantity\"].sum()\n",
        "    sumT = data[\"Total Value\"].sum()\n",
        "\n",
        "  return sumQ, sumT\n",
        "\n",
        "christmas1 = holidayStats(dataSales1, 'christmas')\n",
        "chinese1 = holidayStats(dataSales1, 'chinese')\n",
        "ramadan1 = holidayStats(dataSales1, 'ramadan')\n",
        "valentine1 = holidayStats(dataSales1, 'valentine')\n",
        "easter1 = holidayStats(dataSales1, 'easter')\n",
        "data = {\"Holiday\" : [\"Christmas\", \"Chinese New Year\", \"Ramadan\", \"Valentine's Day\", \"Easter Day\"],\n",
        "        \"Total Quantity\" : [christmas1[0], chinese1[0], ramadan1[0], valentine1[0], easter1[0]],\n",
        "        \"Total Value\" : [christmas1[1], chinese1[1], ramadan1[1], valentine1[1], easter1[1]]}\n",
        "dataHoliday1 = pd.DataFrame(data)\n",
        "dataFrame_list.append(dataHoliday1)\n",
        "dataFrame_desc.append(\"Sales Trend on Public Holidays 2009-2010\")\n",
        "\n",
        "christmas2 = holidayStats(dataSales2, 'christmas')\n",
        "chinese2 = holidayStats(dataSales2, 'chinese')\n",
        "ramadan2 = holidayStats(dataSales2, 'ramadan')\n",
        "valentine2 = holidayStats(dataSales2, 'valentine')\n",
        "easter2 = holidayStats(dataSales2, 'easter')\n",
        "data = {\"Holiday\" : [\"Christmas\", \"Chinese New Year\", \"Ramadan\", \"Valentine's Day\", \"Easter Day\"],\n",
        "        \"Total Quantity\" : [christmas2[0], chinese2[0], ramadan2[0], valentine2[0], easter2[0]],\n",
        "        \"Total Value\" : [christmas2[1], chinese2[1], ramadan2[1], valentine2[1], easter2[1]]}\n",
        "dataHoliday2 = pd.DataFrame(data)\n",
        "dataFrame_list.append(dataHoliday2)\n",
        "dataFrame_desc.append(\"Sales Trend on Public Holidays 2010-2011\")\n"
      ],
      "metadata": {
        "id": "qftppplCBqw2"
      },
      "execution_count": null,
      "outputs": []
    },
    {
      "cell_type": "code",
      "source": [
        "#### Top 10 products with increasing revenue\n",
        "# df1.merge(df2[['Name', 'Grade', 'Rank']])\n",
        "# df1 = dataProduct1\n",
        "df1 = dataSales1[[\"Description\", \"Quantity\", \"Total Value\"]]\n",
        "# df2 = dataSales2[[\"Description\", \"Quantity\", \"Total Value\"]]\n",
        "df1.head()\n",
        "# df2.head()\n",
        "\n",
        "# subs = df2[\"Total Value\"] - df1[\"Total Value\"]\n",
        "# subs.head()\n",
        "\n",
        "# Problem:\n",
        "# Can't merge dataframe because it's too large\n",
        "# Expectation: Product A has X revenue on 09-10 and Y revenue on 10-11\n",
        "# Expectation: Country A has X purchases on 09-10 and Y purchases on 10-11\n",
        "# Expectation: Customer A has X purchases on 09-10 and Y purchases on 10-11\n",
        "#### Top 10 products with decreasing revenue"
      ],
      "metadata": {
        "colab": {
          "base_uri": "https://localhost:8080/",
          "height": 206
        },
        "id": "j20m-nds_GgR",
        "outputId": "cfd1073b-6a7d-4675-86c2-802ff74c1dc1"
      },
      "execution_count": null,
      "outputs": [
        {
          "output_type": "execute_result",
          "data": {
            "text/plain": [
              "                           Description  Quantity  Total Value\n",
              "0  15CM CHRISTMAS GLASS BALL 20 LIGHTS        12         83.4\n",
              "1                   PINK CHERRY LIGHTS        12         81.0\n",
              "2                  WHITE CHERRY LIGHTS        12         81.0\n",
              "3         RECORD FRAME 7\" SINGLE SIZE         48        100.8\n",
              "4       STRAWBERRY CERAMIC TRINKET BOX        24         30.0"
            ],
            "text/html": [
              "\n",
              "  <div id=\"df-9c4ea9bc-ee92-4d15-9bb7-b1f8146e2197\">\n",
              "    <div class=\"colab-df-container\">\n",
              "      <div>\n",
              "<style scoped>\n",
              "    .dataframe tbody tr th:only-of-type {\n",
              "        vertical-align: middle;\n",
              "    }\n",
              "\n",
              "    .dataframe tbody tr th {\n",
              "        vertical-align: top;\n",
              "    }\n",
              "\n",
              "    .dataframe thead th {\n",
              "        text-align: right;\n",
              "    }\n",
              "</style>\n",
              "<table border=\"1\" class=\"dataframe\">\n",
              "  <thead>\n",
              "    <tr style=\"text-align: right;\">\n",
              "      <th></th>\n",
              "      <th>Description</th>\n",
              "      <th>Quantity</th>\n",
              "      <th>Total Value</th>\n",
              "    </tr>\n",
              "  </thead>\n",
              "  <tbody>\n",
              "    <tr>\n",
              "      <th>0</th>\n",
              "      <td>15CM CHRISTMAS GLASS BALL 20 LIGHTS</td>\n",
              "      <td>12</td>\n",
              "      <td>83.4</td>\n",
              "    </tr>\n",
              "    <tr>\n",
              "      <th>1</th>\n",
              "      <td>PINK CHERRY LIGHTS</td>\n",
              "      <td>12</td>\n",
              "      <td>81.0</td>\n",
              "    </tr>\n",
              "    <tr>\n",
              "      <th>2</th>\n",
              "      <td>WHITE CHERRY LIGHTS</td>\n",
              "      <td>12</td>\n",
              "      <td>81.0</td>\n",
              "    </tr>\n",
              "    <tr>\n",
              "      <th>3</th>\n",
              "      <td>RECORD FRAME 7\" SINGLE SIZE</td>\n",
              "      <td>48</td>\n",
              "      <td>100.8</td>\n",
              "    </tr>\n",
              "    <tr>\n",
              "      <th>4</th>\n",
              "      <td>STRAWBERRY CERAMIC TRINKET BOX</td>\n",
              "      <td>24</td>\n",
              "      <td>30.0</td>\n",
              "    </tr>\n",
              "  </tbody>\n",
              "</table>\n",
              "</div>\n",
              "      <button class=\"colab-df-convert\" onclick=\"convertToInteractive('df-9c4ea9bc-ee92-4d15-9bb7-b1f8146e2197')\"\n",
              "              title=\"Convert this dataframe to an interactive table.\"\n",
              "              style=\"display:none;\">\n",
              "        \n",
              "  <svg xmlns=\"http://www.w3.org/2000/svg\" height=\"24px\"viewBox=\"0 0 24 24\"\n",
              "       width=\"24px\">\n",
              "    <path d=\"M0 0h24v24H0V0z\" fill=\"none\"/>\n",
              "    <path d=\"M18.56 5.44l.94 2.06.94-2.06 2.06-.94-2.06-.94-.94-2.06-.94 2.06-2.06.94zm-11 1L8.5 8.5l.94-2.06 2.06-.94-2.06-.94L8.5 2.5l-.94 2.06-2.06.94zm10 10l.94 2.06.94-2.06 2.06-.94-2.06-.94-.94-2.06-.94 2.06-2.06.94z\"/><path d=\"M17.41 7.96l-1.37-1.37c-.4-.4-.92-.59-1.43-.59-.52 0-1.04.2-1.43.59L10.3 9.45l-7.72 7.72c-.78.78-.78 2.05 0 2.83L4 21.41c.39.39.9.59 1.41.59.51 0 1.02-.2 1.41-.59l7.78-7.78 2.81-2.81c.8-.78.8-2.07 0-2.86zM5.41 20L4 18.59l7.72-7.72 1.47 1.35L5.41 20z\"/>\n",
              "  </svg>\n",
              "      </button>\n",
              "      \n",
              "  <style>\n",
              "    .colab-df-container {\n",
              "      display:flex;\n",
              "      flex-wrap:wrap;\n",
              "      gap: 12px;\n",
              "    }\n",
              "\n",
              "    .colab-df-convert {\n",
              "      background-color: #E8F0FE;\n",
              "      border: none;\n",
              "      border-radius: 50%;\n",
              "      cursor: pointer;\n",
              "      display: none;\n",
              "      fill: #1967D2;\n",
              "      height: 32px;\n",
              "      padding: 0 0 0 0;\n",
              "      width: 32px;\n",
              "    }\n",
              "\n",
              "    .colab-df-convert:hover {\n",
              "      background-color: #E2EBFA;\n",
              "      box-shadow: 0px 1px 2px rgba(60, 64, 67, 0.3), 0px 1px 3px 1px rgba(60, 64, 67, 0.15);\n",
              "      fill: #174EA6;\n",
              "    }\n",
              "\n",
              "    [theme=dark] .colab-df-convert {\n",
              "      background-color: #3B4455;\n",
              "      fill: #D2E3FC;\n",
              "    }\n",
              "\n",
              "    [theme=dark] .colab-df-convert:hover {\n",
              "      background-color: #434B5C;\n",
              "      box-shadow: 0px 1px 3px 1px rgba(0, 0, 0, 0.15);\n",
              "      filter: drop-shadow(0px 1px 2px rgba(0, 0, 0, 0.3));\n",
              "      fill: #FFFFFF;\n",
              "    }\n",
              "  </style>\n",
              "\n",
              "      <script>\n",
              "        const buttonEl =\n",
              "          document.querySelector('#df-9c4ea9bc-ee92-4d15-9bb7-b1f8146e2197 button.colab-df-convert');\n",
              "        buttonEl.style.display =\n",
              "          google.colab.kernel.accessAllowed ? 'block' : 'none';\n",
              "\n",
              "        async function convertToInteractive(key) {\n",
              "          const element = document.querySelector('#df-9c4ea9bc-ee92-4d15-9bb7-b1f8146e2197');\n",
              "          const dataTable =\n",
              "            await google.colab.kernel.invokeFunction('convertToInteractive',\n",
              "                                                     [key], {});\n",
              "          if (!dataTable) return;\n",
              "\n",
              "          const docLinkHtml = 'Like what you see? Visit the ' +\n",
              "            '<a target=\"_blank\" href=https://colab.research.google.com/notebooks/data_table.ipynb>data table notebook</a>'\n",
              "            + ' to learn more about interactive tables.';\n",
              "          element.innerHTML = '';\n",
              "          dataTable['output_type'] = 'display_data';\n",
              "          await google.colab.output.renderOutput(dataTable, element);\n",
              "          const docLink = document.createElement('div');\n",
              "          docLink.innerHTML = docLinkHtml;\n",
              "          element.appendChild(docLink);\n",
              "        }\n",
              "      </script>\n",
              "    </div>\n",
              "  </div>\n",
              "  "
            ]
          },
          "metadata": {},
          "execution_count": 108
        }
      ]
    },
    {
      "cell_type": "code",
      "source": [
        "directory = r'/content/gdrive/MyDrive/Semester 6/Kapsel Statistika/UTS Output.xlsx'"
      ],
      "metadata": {
        "id": "f3ZvZG0VVb_C"
      },
      "execution_count": null,
      "outputs": []
    },
    {
      "cell_type": "code",
      "source": [
        "print('total value')\n",
        "topp = dataCustomer1.groupby(\"Customer ID\")[\"Quantity\", \"Total Value\"].sum()\n",
        "# topi2 = topi.sort_values(by = [\"Total Value\"], ascending = False). iloc[:500000,:]\n",
        "topp\n",
        "# topi2.loc[(topi2['Total Value'] > 0) & (topi2['Total Value'] < 307) ]\n",
        "# topi2['Total Value'].describe()\n",
        "# print(\"\\n\")\n",
        "# print('quantity')\n",
        "# dataCustomer1['Quantity'].describe()\n",
        "# print('price')\n",
        "# dataCustomer1['Price'].describe()"
      ],
      "metadata": {
        "colab": {
          "base_uri": "https://localhost:8080/",
          "height": 529
        },
        "id": "llW6AAuUCkAc",
        "outputId": "3442fc29-f1c2-44da-9240-2bde3139720c"
      },
      "execution_count": null,
      "outputs": [
        {
          "output_type": "stream",
          "name": "stdout",
          "text": [
            "total value\n"
          ]
        },
        {
          "output_type": "stream",
          "name": "stderr",
          "text": [
            "<ipython-input-59-9dba32a2f8e0>:2: FutureWarning: Indexing with multiple keys (implicitly converted to a tuple of keys) will be deprecated, use a list instead.\n",
            "  topi = dataCustomer1.groupby(\"Customer ID\")[\"Quantity\", \"Total Value\"].sum()\n"
          ]
        },
        {
          "output_type": "execute_result",
          "data": {
            "text/plain": [
              "             Quantity  Total Value\n",
              "Customer ID                       \n",
              "12346.0            70       372.86\n",
              "12347.0           828      1323.32\n",
              "12348.0           373       222.16\n",
              "12349.0           993      2671.14\n",
              "12351.0           261       300.93\n",
              "...               ...          ...\n",
              "18283.0           336       641.77\n",
              "18284.0           494       461.68\n",
              "18285.0           145       427.00\n",
              "18286.0           608      1296.43\n",
              "18287.0          1427      2345.71\n",
              "\n",
              "[4302 rows x 2 columns]"
            ],
            "text/html": [
              "\n",
              "  <div id=\"df-2cae8682-1957-4e7c-bbf4-78ea57bc058e\">\n",
              "    <div class=\"colab-df-container\">\n",
              "      <div>\n",
              "<style scoped>\n",
              "    .dataframe tbody tr th:only-of-type {\n",
              "        vertical-align: middle;\n",
              "    }\n",
              "\n",
              "    .dataframe tbody tr th {\n",
              "        vertical-align: top;\n",
              "    }\n",
              "\n",
              "    .dataframe thead th {\n",
              "        text-align: right;\n",
              "    }\n",
              "</style>\n",
              "<table border=\"1\" class=\"dataframe\">\n",
              "  <thead>\n",
              "    <tr style=\"text-align: right;\">\n",
              "      <th></th>\n",
              "      <th>Quantity</th>\n",
              "      <th>Total Value</th>\n",
              "    </tr>\n",
              "    <tr>\n",
              "      <th>Customer ID</th>\n",
              "      <th></th>\n",
              "      <th></th>\n",
              "    </tr>\n",
              "  </thead>\n",
              "  <tbody>\n",
              "    <tr>\n",
              "      <th>12346.0</th>\n",
              "      <td>70</td>\n",
              "      <td>372.86</td>\n",
              "    </tr>\n",
              "    <tr>\n",
              "      <th>12347.0</th>\n",
              "      <td>828</td>\n",
              "      <td>1323.32</td>\n",
              "    </tr>\n",
              "    <tr>\n",
              "      <th>12348.0</th>\n",
              "      <td>373</td>\n",
              "      <td>222.16</td>\n",
              "    </tr>\n",
              "    <tr>\n",
              "      <th>12349.0</th>\n",
              "      <td>993</td>\n",
              "      <td>2671.14</td>\n",
              "    </tr>\n",
              "    <tr>\n",
              "      <th>12351.0</th>\n",
              "      <td>261</td>\n",
              "      <td>300.93</td>\n",
              "    </tr>\n",
              "    <tr>\n",
              "      <th>...</th>\n",
              "      <td>...</td>\n",
              "      <td>...</td>\n",
              "    </tr>\n",
              "    <tr>\n",
              "      <th>18283.0</th>\n",
              "      <td>336</td>\n",
              "      <td>641.77</td>\n",
              "    </tr>\n",
              "    <tr>\n",
              "      <th>18284.0</th>\n",
              "      <td>494</td>\n",
              "      <td>461.68</td>\n",
              "    </tr>\n",
              "    <tr>\n",
              "      <th>18285.0</th>\n",
              "      <td>145</td>\n",
              "      <td>427.00</td>\n",
              "    </tr>\n",
              "    <tr>\n",
              "      <th>18286.0</th>\n",
              "      <td>608</td>\n",
              "      <td>1296.43</td>\n",
              "    </tr>\n",
              "    <tr>\n",
              "      <th>18287.0</th>\n",
              "      <td>1427</td>\n",
              "      <td>2345.71</td>\n",
              "    </tr>\n",
              "  </tbody>\n",
              "</table>\n",
              "<p>4302 rows × 2 columns</p>\n",
              "</div>\n",
              "      <button class=\"colab-df-convert\" onclick=\"convertToInteractive('df-2cae8682-1957-4e7c-bbf4-78ea57bc058e')\"\n",
              "              title=\"Convert this dataframe to an interactive table.\"\n",
              "              style=\"display:none;\">\n",
              "        \n",
              "  <svg xmlns=\"http://www.w3.org/2000/svg\" height=\"24px\"viewBox=\"0 0 24 24\"\n",
              "       width=\"24px\">\n",
              "    <path d=\"M0 0h24v24H0V0z\" fill=\"none\"/>\n",
              "    <path d=\"M18.56 5.44l.94 2.06.94-2.06 2.06-.94-2.06-.94-.94-2.06-.94 2.06-2.06.94zm-11 1L8.5 8.5l.94-2.06 2.06-.94-2.06-.94L8.5 2.5l-.94 2.06-2.06.94zm10 10l.94 2.06.94-2.06 2.06-.94-2.06-.94-.94-2.06-.94 2.06-2.06.94z\"/><path d=\"M17.41 7.96l-1.37-1.37c-.4-.4-.92-.59-1.43-.59-.52 0-1.04.2-1.43.59L10.3 9.45l-7.72 7.72c-.78.78-.78 2.05 0 2.83L4 21.41c.39.39.9.59 1.41.59.51 0 1.02-.2 1.41-.59l7.78-7.78 2.81-2.81c.8-.78.8-2.07 0-2.86zM5.41 20L4 18.59l7.72-7.72 1.47 1.35L5.41 20z\"/>\n",
              "  </svg>\n",
              "      </button>\n",
              "      \n",
              "  <style>\n",
              "    .colab-df-container {\n",
              "      display:flex;\n",
              "      flex-wrap:wrap;\n",
              "      gap: 12px;\n",
              "    }\n",
              "\n",
              "    .colab-df-convert {\n",
              "      background-color: #E8F0FE;\n",
              "      border: none;\n",
              "      border-radius: 50%;\n",
              "      cursor: pointer;\n",
              "      display: none;\n",
              "      fill: #1967D2;\n",
              "      height: 32px;\n",
              "      padding: 0 0 0 0;\n",
              "      width: 32px;\n",
              "    }\n",
              "\n",
              "    .colab-df-convert:hover {\n",
              "      background-color: #E2EBFA;\n",
              "      box-shadow: 0px 1px 2px rgba(60, 64, 67, 0.3), 0px 1px 3px 1px rgba(60, 64, 67, 0.15);\n",
              "      fill: #174EA6;\n",
              "    }\n",
              "\n",
              "    [theme=dark] .colab-df-convert {\n",
              "      background-color: #3B4455;\n",
              "      fill: #D2E3FC;\n",
              "    }\n",
              "\n",
              "    [theme=dark] .colab-df-convert:hover {\n",
              "      background-color: #434B5C;\n",
              "      box-shadow: 0px 1px 3px 1px rgba(0, 0, 0, 0.15);\n",
              "      filter: drop-shadow(0px 1px 2px rgba(0, 0, 0, 0.3));\n",
              "      fill: #FFFFFF;\n",
              "    }\n",
              "  </style>\n",
              "\n",
              "      <script>\n",
              "        const buttonEl =\n",
              "          document.querySelector('#df-2cae8682-1957-4e7c-bbf4-78ea57bc058e button.colab-df-convert');\n",
              "        buttonEl.style.display =\n",
              "          google.colab.kernel.accessAllowed ? 'block' : 'none';\n",
              "\n",
              "        async function convertToInteractive(key) {\n",
              "          const element = document.querySelector('#df-2cae8682-1957-4e7c-bbf4-78ea57bc058e');\n",
              "          const dataTable =\n",
              "            await google.colab.kernel.invokeFunction('convertToInteractive',\n",
              "                                                     [key], {});\n",
              "          if (!dataTable) return;\n",
              "\n",
              "          const docLinkHtml = 'Like what you see? Visit the ' +\n",
              "            '<a target=\"_blank\" href=https://colab.research.google.com/notebooks/data_table.ipynb>data table notebook</a>'\n",
              "            + ' to learn more about interactive tables.';\n",
              "          element.innerHTML = '';\n",
              "          dataTable['output_type'] = 'display_data';\n",
              "          await google.colab.output.renderOutput(dataTable, element);\n",
              "          const docLink = document.createElement('div');\n",
              "          docLink.innerHTML = docLinkHtml;\n",
              "          element.appendChild(docLink);\n",
              "        }\n",
              "      </script>\n",
              "    </div>\n",
              "  </div>\n",
              "  "
            ]
          },
          "metadata": {},
          "execution_count": 59
        }
      ]
    },
    {
      "cell_type": "code",
      "source": [
        "# topp['Total Value'].describe()\n",
        "topp['Quantity'].describe()"
      ],
      "metadata": {
        "colab": {
          "base_uri": "https://localhost:8080/"
        },
        "id": "wxt2fGSkQVCk",
        "outputId": "c7416099-cc59-45ff-d0ef-766325648a53"
      },
      "execution_count": null,
      "outputs": [
        {
          "output_type": "execute_result",
          "data": {
            "text/plain": [
              "count      4312.000000\n",
              "mean       1284.404917\n",
              "std        6459.164580\n",
              "min           1.000000\n",
              "25%         158.000000\n",
              "50%         382.000000\n",
              "75%         996.250000\n",
              "max      220600.000000\n",
              "Name: Quantity, dtype: float64"
            ]
          },
          "metadata": {},
          "execution_count": 91
        }
      ]
    },
    {
      "cell_type": "code",
      "source": [
        "topp['Total Value'].describe()"
      ],
      "metadata": {
        "colab": {
          "base_uri": "https://localhost:8080/"
        },
        "id": "aWtyzGKQSPFV",
        "outputId": "a24e1a52-ffbb-43ad-87d4-a44b492e6f72"
      },
      "execution_count": null,
      "outputs": [
        {
          "output_type": "execute_result",
          "data": {
            "text/plain": [
              "count      4302.000000\n",
              "mean       2052.176837\n",
              "std        8919.179645\n",
              "min           2.950000\n",
              "25%         309.242500\n",
              "50%         710.690000\n",
              "75%        1731.402500\n",
              "max      349164.350000\n",
              "Name: Total Value, dtype: float64"
            ]
          },
          "metadata": {},
          "execution_count": 72
        }
      ]
    },
    {
      "cell_type": "code",
      "source": [
        "# group1 = dataCustomer1.groupby(\"Customer ID\")[\"Quantity\", \"Total Value\"].sum()\n",
        "# group2 = dataCustomer2.groupby(\"Customer ID\")[\"Quantity\", \"Total Value\"].sum()\n",
        "\n",
        "# def groupCustomers(df, category):\n",
        "#   if category == \"Total Value\":\n",
        "#     q1 = df[category].quantile(0.25)\n",
        "#     q2 = df[category].quantile(0.5)\n",
        "#     q3 = df[category].quantile(0.75)\n",
        "#     max = df[category].quantile(1)\n",
        "\n",
        "#     conditions = [\n",
        "#       (df[category] <= q1),\n",
        "#       (df[category] > q1) & (df[category] <= q2),\n",
        "#       (df[category] > q2) & (df[category] <= q3),\n",
        "#       (df[category] > q3) & (df[category] <= max),\n",
        "#     ]\n",
        "\n",
        "#     values = ['Low spending', 'Medium spending', 'High spending', 'Very high spending']\n",
        "#     df['Spending level'] = np.select(conditions, values)\n",
        "\n",
        "#     lowS = df['Spending level'].value_counts()['Low spending']\n",
        "#     midS = df['Spending level'].value_counts()['Medium spending']\n",
        "#     highS = df['Spending level'].value_counts()['High spending']\n",
        "#     vhighS = df['Spending level'].value_counts()['Very high spending']\n",
        "\n",
        "#     numCustomers = [lowS, midS, highS, vhighS]\n",
        "\n",
        "#   elif category == \"Quantity\":\n",
        "#     q1 = df[category].quantile(0.25)\n",
        "#     q2 = df[category].quantile(0.5)\n",
        "#     q3 = df[category].quantile(0.75)\n",
        "#     max = df[category].quantile(1)\n",
        "\n",
        "#     conditions = [\n",
        "#       (df[category] <= q1),\n",
        "#       (df[category] > q1) & (df[category] <= q2),\n",
        "#       (df[category] > q2) & (df[category] <= q3),\n",
        "#       (df[category] > q3) & (df[category] <= max),]\n",
        "\n",
        "#     values = ['Low purchase', 'Medium purchase', 'High purchase', 'Very high purchase']\n",
        "#     df['Purchase level'] = np.select(conditions, values)\n",
        "\n",
        "#     lowP = df['Purchase level'].value_counts()['Low purchase']\n",
        "#     midP = df['Purchase level'].value_counts()['Medium purchase']\n",
        "#     highP = df['Purchase level'].value_counts()['High purchase']\n",
        "#     vhighP = df['Purchase level'].value_counts()['Very high purchase']\n",
        "\n",
        "#     numCustomers = [lowP, midP, highP, vhighP]\n",
        "\n",
        "#   summary = {\"Category\" : values,\n",
        "#            \"Range\": [\"Less than \" + str(q1), str(q1) + \" - \" + str(q2), str(q2) + \" - \" + str(q3), \"More than \" + str(q3)],\n",
        "#            \"Number of Customers\" : numCustomers}\n",
        "#   summary = pd.DataFrame(summary)\n",
        "#   return summary\n",
        "\n",
        "# dataFrame_list.append(summary1)\n",
        "# dataFrame_desc.append(\"Group of Customers based on Spending Level\")\n",
        "# dataFrame_list.append(summary2)\n",
        "# dataFrame_desc.append(\"Group of Customers based on Purchase Level\")\n",
        "\n",
        "# summary1_V = groupCustomers(group1, \"Total Value\")\n",
        "# dataFrame_list.append(summary1_V)\n",
        "# dataFrame_desc.append(\"Group of Customers based on Spending Level in 2009-2010\")\n",
        "\n",
        "# summary1_Q = groupCustomers(group1, \"Quantity\")\n",
        "# dataFrame_list.append(summary1_Q)\n",
        "# dataFrame_desc.append(\"Group of Customers based on Purchase Level in 2009-2010\")\n",
        "\n",
        "# summary2_V = groupCustomers(group2, \"Total Value\")\n",
        "# dataFrame_list.append(summary2_V)\n",
        "# dataFrame_desc.append(\"Group of Customers based on Spending Level in 2010-2011\")\n",
        "\n",
        "# summary2_Q = groupCustomers(group2, \"Quantity\")\n",
        "# dataFrame_list.append(summary2_Q)\n",
        "# dataFrame_desc.append(\"Group of Customers based on Purchase Level in 2010-2011\")\n"
      ],
      "metadata": {
        "colab": {
          "base_uri": "https://localhost:8080/"
        },
        "id": "85Uu2O7BQvmX",
        "outputId": "57124436-a3c8-4b5e-db6f-26747ed6287b"
      },
      "execution_count": null,
      "outputs": [
        {
          "output_type": "stream",
          "name": "stderr",
          "text": [
            "<ipython-input-55-96e4ef38a903>:1: FutureWarning: Indexing with multiple keys (implicitly converted to a tuple of keys) will be deprecated, use a list instead.\n",
            "  group1 = dataCustomer1.groupby(\"Customer ID\")[\"Quantity\", \"Total Value\"].sum()\n",
            "<ipython-input-55-96e4ef38a903>:2: FutureWarning: Indexing with multiple keys (implicitly converted to a tuple of keys) will be deprecated, use a list instead.\n",
            "  group2 = dataCustomer2.groupby(\"Customer ID\")[\"Quantity\", \"Total Value\"].sum()\n"
          ]
        }
      ]
    },
    {
      "cell_type": "code",
      "source": [
        "group1 = dataCustomer1.groupby(\"Customer ID\")[\"Quantity\", \"Total Value\"].sum()\n",
        "group2 = dataCustomer2.groupby(\"Customer ID\")[\"Quantity\", \"Total Value\"].sum()\n",
        "\n",
        "def groupCustomers(df, category):\n",
        "  if category == \"Total Value\":\n",
        "    q1 = df[category].quantile(0.25)\n",
        "    q2 = df[category].quantile(0.5)\n",
        "    q3 = df[category].quantile(0.75)\n",
        "    max = df[category].quantile(1)\n",
        "\n",
        "    conditions = [\n",
        "      (df[category] <= q1),\n",
        "      (df[category] > q1) & (df[category] <= q2),\n",
        "      (df[category] > q2) & (df[category] <= q3),\n",
        "      (df[category] > q3) & (df[category] <= max),\n",
        "    ]\n",
        "\n",
        "    values = ['Low spending', 'Medium spending', 'High spending', 'Very high spending']\n",
        "    df['Spending level'] = np.select(conditions, values)\n",
        "\n",
        "    lowS = df['Spending level'].value_counts()['Low spending']\n",
        "    midS = df['Spending level'].value_counts()['Medium spending']\n",
        "    highS = df['Spending level'].value_counts()['High spending']\n",
        "    vhighS = df['Spending level'].value_counts()['Very high spending']\n",
        "\n",
        "    numCustomers = [lowS, midS, highS, vhighS]\n",
        "\n",
        "    meanQ = []\n",
        "    for i in values:\n",
        "      mean = df.loc[df['Spending level'] == i].mean()[0]\n",
        "      meanQ.append(mean)\n",
        "\n",
        "  elif category == \"Quantity\":\n",
        "    q1 = df[category].quantile(0.25)\n",
        "    q2 = df[category].quantile(0.5)\n",
        "    q3 = df[category].quantile(0.75)\n",
        "    max = df[category].quantile(1)\n",
        "\n",
        "    conditions = [\n",
        "      (df[category] <= q1),\n",
        "      (df[category] > q1) & (df[category] <= q2),\n",
        "      (df[category] > q2) & (df[category] <= q3),\n",
        "      (df[category] > q3) & (df[category] <= max),]\n",
        "\n",
        "    values = ['Low purchase', 'Medium purchase', 'High purchase', 'Very high purchase']\n",
        "    df['Purchase level'] = np.select(conditions, values)\n",
        "\n",
        "    lowP = df['Purchase level'].value_counts()['Low purchase']\n",
        "    midP = df['Purchase level'].value_counts()['Medium purchase']\n",
        "    highP = df['Purchase level'].value_counts()['High purchase']\n",
        "    vhighP = df['Purchase level'].value_counts()['Very high purchase']\n",
        "\n",
        "    numCustomers = [lowP, midP, highP, vhighP]\n",
        "\n",
        "    meanV = []\n",
        "    for i in values:\n",
        "      mean = df.loc[df['Purchase level'] == i].mean()[1]\n",
        "      meanV.append(mean)\n",
        "\n",
        "  summary = {\"Category\" : values,\n",
        "           \"Range\": [\"Less than \" + str(q1), str(q1) + \" - \" + str(q2), str(q2) + \" - \" + str(q3), \"More than \" + str(q3)],\n",
        "           \"Number of Customers\" : numCustomers}\n",
        "\n",
        "  if category == \"Total Value\":\n",
        "    summary['Mean of Quantity Purchased'] = meanQ\n",
        "  elif category == \"Quantity\":\n",
        "    summary['Mean of Total Spending'] = meanV\n",
        "\n",
        "  summary = pd.DataFrame(summary)\n",
        "  return summary\n",
        "\n",
        "# groupCustomers(group1, \"Quantity\")\n",
        "\n",
        "summary1_V = groupCustomers(group1, \"Total Value\")\n",
        "dataFrame_list.append(summary1_V)\n",
        "dataFrame_desc.append(\"Group of Customers based on Spending Level in 2009-2010\")\n",
        "\n",
        "summary1_Q = groupCustomers(group1, \"Quantity\")\n",
        "dataFrame_list.append(summary1_Q)\n",
        "dataFrame_desc.append(\"Group of Customers based on Purchase Level in 2009-2010\")\n",
        "\n",
        "summary2_V = groupCustomers(group2, \"Total Value\")\n",
        "dataFrame_list.append(summary2_V)\n",
        "dataFrame_desc.append(\"Group of Customers based on Spending Level in 2010-2011\")\n",
        "\n",
        "summary2_Q = groupCustomers(group2, \"Quantity\")\n",
        "dataFrame_list.append(summary2_Q)\n",
        "dataFrame_desc.append(\"Group of Customers based on Purchase Level in 2010-2011\")"
      ],
      "metadata": {
        "colab": {
          "base_uri": "https://localhost:8080/"
        },
        "id": "lzs2Z7HbKElW",
        "outputId": "122948b2-3770-427b-8af9-9ae156b88b10"
      },
      "execution_count": null,
      "outputs": [
        {
          "output_type": "stream",
          "name": "stderr",
          "text": [
            "<ipython-input-20-7cc65510ec29>:1: FutureWarning: Indexing with multiple keys (implicitly converted to a tuple of keys) will be deprecated, use a list instead.\n",
            "  group1 = dataCustomer1.groupby(\"Customer ID\")[\"Quantity\", \"Total Value\"].sum()\n",
            "<ipython-input-20-7cc65510ec29>:2: FutureWarning: Indexing with multiple keys (implicitly converted to a tuple of keys) will be deprecated, use a list instead.\n",
            "  group2 = dataCustomer2.groupby(\"Customer ID\")[\"Quantity\", \"Total Value\"].sum()\n",
            "<ipython-input-20-7cc65510ec29>:30: FutureWarning: The default value of numeric_only in DataFrame.mean is deprecated. In a future version, it will default to False. In addition, specifying 'numeric_only=None' is deprecated. Select only valid columns or specify the value of numeric_only to silence this warning.\n",
            "  mean = df.loc[df['Spending level'] == i].mean()[0]\n",
            "<ipython-input-20-7cc65510ec29>:30: FutureWarning: The default value of numeric_only in DataFrame.mean is deprecated. In a future version, it will default to False. In addition, specifying 'numeric_only=None' is deprecated. Select only valid columns or specify the value of numeric_only to silence this warning.\n",
            "  mean = df.loc[df['Spending level'] == i].mean()[0]\n",
            "<ipython-input-20-7cc65510ec29>:30: FutureWarning: The default value of numeric_only in DataFrame.mean is deprecated. In a future version, it will default to False. In addition, specifying 'numeric_only=None' is deprecated. Select only valid columns or specify the value of numeric_only to silence this warning.\n",
            "  mean = df.loc[df['Spending level'] == i].mean()[0]\n",
            "<ipython-input-20-7cc65510ec29>:30: FutureWarning: The default value of numeric_only in DataFrame.mean is deprecated. In a future version, it will default to False. In addition, specifying 'numeric_only=None' is deprecated. Select only valid columns or specify the value of numeric_only to silence this warning.\n",
            "  mean = df.loc[df['Spending level'] == i].mean()[0]\n",
            "<ipython-input-20-7cc65510ec29>:57: FutureWarning: The default value of numeric_only in DataFrame.mean is deprecated. In a future version, it will default to False. In addition, specifying 'numeric_only=None' is deprecated. Select only valid columns or specify the value of numeric_only to silence this warning.\n",
            "  mean = df.loc[df['Purchase level'] == i].mean()[1]\n",
            "<ipython-input-20-7cc65510ec29>:57: FutureWarning: The default value of numeric_only in DataFrame.mean is deprecated. In a future version, it will default to False. In addition, specifying 'numeric_only=None' is deprecated. Select only valid columns or specify the value of numeric_only to silence this warning.\n",
            "  mean = df.loc[df['Purchase level'] == i].mean()[1]\n",
            "<ipython-input-20-7cc65510ec29>:57: FutureWarning: The default value of numeric_only in DataFrame.mean is deprecated. In a future version, it will default to False. In addition, specifying 'numeric_only=None' is deprecated. Select only valid columns or specify the value of numeric_only to silence this warning.\n",
            "  mean = df.loc[df['Purchase level'] == i].mean()[1]\n",
            "<ipython-input-20-7cc65510ec29>:57: FutureWarning: The default value of numeric_only in DataFrame.mean is deprecated. In a future version, it will default to False. In addition, specifying 'numeric_only=None' is deprecated. Select only valid columns or specify the value of numeric_only to silence this warning.\n",
            "  mean = df.loc[df['Purchase level'] == i].mean()[1]\n",
            "<ipython-input-20-7cc65510ec29>:30: FutureWarning: The default value of numeric_only in DataFrame.mean is deprecated. In a future version, it will default to False. In addition, specifying 'numeric_only=None' is deprecated. Select only valid columns or specify the value of numeric_only to silence this warning.\n",
            "  mean = df.loc[df['Spending level'] == i].mean()[0]\n",
            "<ipython-input-20-7cc65510ec29>:30: FutureWarning: The default value of numeric_only in DataFrame.mean is deprecated. In a future version, it will default to False. In addition, specifying 'numeric_only=None' is deprecated. Select only valid columns or specify the value of numeric_only to silence this warning.\n",
            "  mean = df.loc[df['Spending level'] == i].mean()[0]\n",
            "<ipython-input-20-7cc65510ec29>:30: FutureWarning: The default value of numeric_only in DataFrame.mean is deprecated. In a future version, it will default to False. In addition, specifying 'numeric_only=None' is deprecated. Select only valid columns or specify the value of numeric_only to silence this warning.\n",
            "  mean = df.loc[df['Spending level'] == i].mean()[0]\n",
            "<ipython-input-20-7cc65510ec29>:30: FutureWarning: The default value of numeric_only in DataFrame.mean is deprecated. In a future version, it will default to False. In addition, specifying 'numeric_only=None' is deprecated. Select only valid columns or specify the value of numeric_only to silence this warning.\n",
            "  mean = df.loc[df['Spending level'] == i].mean()[0]\n",
            "<ipython-input-20-7cc65510ec29>:57: FutureWarning: The default value of numeric_only in DataFrame.mean is deprecated. In a future version, it will default to False. In addition, specifying 'numeric_only=None' is deprecated. Select only valid columns or specify the value of numeric_only to silence this warning.\n",
            "  mean = df.loc[df['Purchase level'] == i].mean()[1]\n",
            "<ipython-input-20-7cc65510ec29>:57: FutureWarning: The default value of numeric_only in DataFrame.mean is deprecated. In a future version, it will default to False. In addition, specifying 'numeric_only=None' is deprecated. Select only valid columns or specify the value of numeric_only to silence this warning.\n",
            "  mean = df.loc[df['Purchase level'] == i].mean()[1]\n",
            "<ipython-input-20-7cc65510ec29>:57: FutureWarning: The default value of numeric_only in DataFrame.mean is deprecated. In a future version, it will default to False. In addition, specifying 'numeric_only=None' is deprecated. Select only valid columns or specify the value of numeric_only to silence this warning.\n",
            "  mean = df.loc[df['Purchase level'] == i].mean()[1]\n",
            "<ipython-input-20-7cc65510ec29>:57: FutureWarning: The default value of numeric_only in DataFrame.mean is deprecated. In a future version, it will default to False. In addition, specifying 'numeric_only=None' is deprecated. Select only valid columns or specify the value of numeric_only to silence this warning.\n",
            "  mean = df.loc[df['Purchase level'] == i].mean()[1]\n"
          ]
        }
      ]
    },
    {
      "cell_type": "code",
      "source": [
        "\n",
        "data1 = dataSales1.loc[(dataSales1[\"Description\"].str.contains(r\"CHRISTMAS\"))]\n",
        "data1 = data1[[\"Description\", \"Quantity\", \"Total Value\"]]\n",
        "\n",
        "data2 = dataSales2.loc[(dataSales2[\"Description\"].str.contains(r\"CHRISTMAS\"))]\n",
        "data2 = data2[[\"Description\", \"Quantity\", \"Total Value\"]]\n",
        "\n",
        "def topChristmas(df, nrows):\n",
        "  top = df.groupby(\"Description\")[\"Quantity\", \"Total Value\"].sum()\n",
        "  top = top.sort_values(by = [\"Quantity\"], ascending = False). iloc[:nrows,:]\n",
        "  list = top.index.tolist()\n",
        "  return top, list\n",
        "\n",
        "def topChristmas2(df, col_list):\n",
        "  top = df.groupby(\"Description\")[\"Quantity\", \"Total Value\"].sum()\n",
        "  tops = top.loc[col_list]\n",
        "  return tops\n",
        "\n",
        "# christmas1 = topChristmas(data1, 10)\n",
        "# dataFrame_list.append(christmas1[0])\n",
        "# dataFrame_desc.append(\"Top 10 Christmas Products in 2009-2010\")\n",
        "\n",
        "# christmas2 = topChristmas2(data2, christmas1[1])\n",
        "\n",
        "# dataFrame_list.append(christmas2)\n",
        "# dataFrame_desc.append(\"Top 10 Christmas Products in 2010-2011\")\n",
        "\n",
        "topCHRISTMAS = topChristmas(data2, 10)\n",
        "dataFrame_list.append(topCHRISTMAS[0])\n",
        "dataFrame_desc.append(\"Top 10 Christmas Products in 2010-2011\")\n"
      ],
      "metadata": {
        "colab": {
          "base_uri": "https://localhost:8080/"
        },
        "id": "casEb3h9tpoJ",
        "outputId": "8d2f8a7b-6fc8-4c8f-95eb-aac38e3f2f10"
      },
      "execution_count": null,
      "outputs": [
        {
          "output_type": "stream",
          "name": "stderr",
          "text": [
            "<ipython-input-46-e2db8c15fb3c>:8: FutureWarning: Indexing with multiple keys (implicitly converted to a tuple of keys) will be deprecated, use a list instead.\n",
            "  top = df.groupby(\"Description\")[\"Quantity\", \"Total Value\"].sum()\n"
          ]
        }
      ]
    },
    {
      "cell_type": "code",
      "source": [
        "df1[\"Country\"].unique()"
      ],
      "metadata": {
        "colab": {
          "base_uri": "https://localhost:8080/"
        },
        "id": "Y6NIjnh2xhZL",
        "outputId": "28d6e494-91ba-4cb3-d7a8-be778ea186de"
      },
      "execution_count": null,
      "outputs": [
        {
          "output_type": "execute_result",
          "data": {
            "text/plain": [
              "array(['United Kingdom', 'France', 'USA', 'Belgium', 'Australia', 'EIRE',\n",
              "       'Germany', 'Portugal', 'Denmark', 'Netherlands', 'Poland',\n",
              "       'Channel Islands', 'Spain', 'Cyprus', 'Greece', 'Norway',\n",
              "       'Austria', 'Sweden', 'United Arab Emirates', 'Finland', 'Italy',\n",
              "       'Switzerland', 'Japan', 'Unspecified', 'Nigeria', 'Malta', 'RSA',\n",
              "       'Singapore', 'Bahrain', 'Thailand', 'Israel', 'Lithuania',\n",
              "       'West Indies', 'Korea', 'Brazil', 'Canada', 'Iceland'],\n",
              "      dtype=object)"
            ]
          },
          "metadata": {},
          "execution_count": 102
        }
      ]
    },
    {
      "cell_type": "code",
      "source": [
        "def holidayPurchases(holiday, category):\n",
        "  # if holiday.lower() == \"christmas\":\n",
        "  #   df = dataSales1.loc[(dataSales1[\"Month\"] == 12) & (dataSales1[\"Day\"] >= 11) & (dataSales1[\"Day\"] <= 24)]\n",
        "  #   df = df.groupby(dataProduct1[category])[\"Quantity\", \"Total Value\"].sum()\n",
        "  #   df = df.sort_values(by = [\"Quantity\"], ascending = False). iloc[:10,:]\n",
        "  # elif holiday.lower() == \"chinese\":\n",
        "  #   df = dataSales1.loc[(dataSales1[\"Month\"] == 1) & (dataSales1[\"Day\"] >= 1) & (dataSales1[\"Day\"] <= 26)]\n",
        "  #   df = df.groupby(dataProduct1[category])[\"Quantity\", \"Total Value\"].sum()\n",
        "  #   df = df.sort_values(by = [\"Quantity\"], ascending = False). iloc[:20,:]\n",
        "  # elif holiday.lower() == \"ramadan\":\n",
        "  #   df = dataSales1.loc[((dataSales1[\"Month\"] == 8) & (dataSales1[\"Day\"] >= 22)) | ((dataSales1[\"Month\"] == 9) & (dataSales1[\"Day\"] <= 20))]\n",
        "  #   df = df.groupby(dataProduct1[category])[\"Quantity\", \"Total Value\"].sum()\n",
        "  #   df = df.sort_values(by = [\"Total Value\"], ascending = False). iloc[:10,:]\n",
        "  # return df\n",
        "  global sumQ, sumT\n",
        "  if holiday.lower() == \"christmas\":\n",
        "    df = dataSales1.loc[(dataSales1[\"Month\"] == 12) & (dataSales1[\"Day\"] >= 11) & (dataSales1[\"Day\"] <= 24)]\n",
        "    sumQ = df[\"Quantity\"].sum()\n",
        "    sumT = df[\"Total Value\"].sum()\n",
        "    # df = df.groupby([\"Quantity\", \"Total Value\"].sum())\n",
        "    # df = df.sort_values(by = [\"Quantity\"], ascending = False). iloc[:10,:]\n",
        "  elif holiday.lower() == \"chinese\":\n",
        "    df = dataSales1.loc[(dataSales1[\"Month\"] == 1) & (dataSales1[\"Day\"] >= 1) & (dataSales1[\"Day\"] <= 26)]\n",
        "    df = df.groupby(dataProduct1[category])[\"Quantity\", \"Total Value\"].sum()\n",
        "    df = df.sort_values(by = [\"Quantity\"], ascending = False). iloc[:20,:]\n",
        "  elif holiday.lower() == \"ramadan\":\n",
        "    df = dataSales1.loc[((dataSales1[\"Month\"] == 8) & (dataSales1[\"Day\"] >= 22)) | ((dataSales1[\"Month\"] == 9) & (dataSales1[\"Day\"] <= 20))]\n",
        "    df = df.groupby(dataProduct1[category])[\"Quantity\", \"Total Value\"].sum()\n",
        "    df = df.sort_values(by = [\"Total Value\"], ascending = False). iloc[:10,:]\n",
        "  return sumQ, sumT\n",
        "\n",
        "\n",
        "\n",
        "# a = holidayPurchases('christmas', 'Description')\n",
        "# print(a)\n",
        "# print(sumQ, sumT)\n",
        "# a.describe()\n",
        "\n",
        "\n"
      ],
      "metadata": {
        "id": "sM6smQrysRcK"
      },
      "execution_count": null,
      "outputs": []
    },
    {
      "cell_type": "code",
      "source": [
        "df = dataProduct1[dataProduct1[\"Description\"] == \"Manual\"]\n",
        "df"
      ],
      "metadata": {
        "colab": {
          "base_uri": "https://localhost:8080/",
          "height": 424
        },
        "id": "5R74HTC80yXY",
        "outputId": "955386bb-cba8-4f0d-e3d3-72e2fec7cdc8"
      },
      "execution_count": null,
      "outputs": [
        {
          "output_type": "execute_result",
          "data": {
            "text/plain": [
              "        Quantity Description  Price  Year  Month  Day\n",
              "11310          1      Manual   0.85  2009     12    4\n",
              "11311          1      Manual   0.21  2009     12    4\n",
              "17386          1      Manual  10.00  2009     12    8\n",
              "17887          1      Manual  10.00  2009     12    8\n",
              "19542          1      Manual  15.95  2009     12    8\n",
              "...          ...         ...    ...   ...    ...  ...\n",
              "516892         2      Manual   5.95  2010     12    6\n",
              "521074        12      Manual   0.19  2010     12    8\n",
              "521122        12      Manual   2.95  2010     12    8\n",
              "521124        12      Manual   0.19  2010     12    8\n",
              "524776         1      Manual  15.00  2010     12    9\n",
              "\n",
              "[425 rows x 6 columns]"
            ],
            "text/html": [
              "\n",
              "  <div id=\"df-bcf4d2cd-91c0-4d44-a083-db46b02ca601\">\n",
              "    <div class=\"colab-df-container\">\n",
              "      <div>\n",
              "<style scoped>\n",
              "    .dataframe tbody tr th:only-of-type {\n",
              "        vertical-align: middle;\n",
              "    }\n",
              "\n",
              "    .dataframe tbody tr th {\n",
              "        vertical-align: top;\n",
              "    }\n",
              "\n",
              "    .dataframe thead th {\n",
              "        text-align: right;\n",
              "    }\n",
              "</style>\n",
              "<table border=\"1\" class=\"dataframe\">\n",
              "  <thead>\n",
              "    <tr style=\"text-align: right;\">\n",
              "      <th></th>\n",
              "      <th>Quantity</th>\n",
              "      <th>Description</th>\n",
              "      <th>Price</th>\n",
              "      <th>Year</th>\n",
              "      <th>Month</th>\n",
              "      <th>Day</th>\n",
              "    </tr>\n",
              "  </thead>\n",
              "  <tbody>\n",
              "    <tr>\n",
              "      <th>11310</th>\n",
              "      <td>1</td>\n",
              "      <td>Manual</td>\n",
              "      <td>0.85</td>\n",
              "      <td>2009</td>\n",
              "      <td>12</td>\n",
              "      <td>4</td>\n",
              "    </tr>\n",
              "    <tr>\n",
              "      <th>11311</th>\n",
              "      <td>1</td>\n",
              "      <td>Manual</td>\n",
              "      <td>0.21</td>\n",
              "      <td>2009</td>\n",
              "      <td>12</td>\n",
              "      <td>4</td>\n",
              "    </tr>\n",
              "    <tr>\n",
              "      <th>17386</th>\n",
              "      <td>1</td>\n",
              "      <td>Manual</td>\n",
              "      <td>10.00</td>\n",
              "      <td>2009</td>\n",
              "      <td>12</td>\n",
              "      <td>8</td>\n",
              "    </tr>\n",
              "    <tr>\n",
              "      <th>17887</th>\n",
              "      <td>1</td>\n",
              "      <td>Manual</td>\n",
              "      <td>10.00</td>\n",
              "      <td>2009</td>\n",
              "      <td>12</td>\n",
              "      <td>8</td>\n",
              "    </tr>\n",
              "    <tr>\n",
              "      <th>19542</th>\n",
              "      <td>1</td>\n",
              "      <td>Manual</td>\n",
              "      <td>15.95</td>\n",
              "      <td>2009</td>\n",
              "      <td>12</td>\n",
              "      <td>8</td>\n",
              "    </tr>\n",
              "    <tr>\n",
              "      <th>...</th>\n",
              "      <td>...</td>\n",
              "      <td>...</td>\n",
              "      <td>...</td>\n",
              "      <td>...</td>\n",
              "      <td>...</td>\n",
              "      <td>...</td>\n",
              "    </tr>\n",
              "    <tr>\n",
              "      <th>516892</th>\n",
              "      <td>2</td>\n",
              "      <td>Manual</td>\n",
              "      <td>5.95</td>\n",
              "      <td>2010</td>\n",
              "      <td>12</td>\n",
              "      <td>6</td>\n",
              "    </tr>\n",
              "    <tr>\n",
              "      <th>521074</th>\n",
              "      <td>12</td>\n",
              "      <td>Manual</td>\n",
              "      <td>0.19</td>\n",
              "      <td>2010</td>\n",
              "      <td>12</td>\n",
              "      <td>8</td>\n",
              "    </tr>\n",
              "    <tr>\n",
              "      <th>521122</th>\n",
              "      <td>12</td>\n",
              "      <td>Manual</td>\n",
              "      <td>2.95</td>\n",
              "      <td>2010</td>\n",
              "      <td>12</td>\n",
              "      <td>8</td>\n",
              "    </tr>\n",
              "    <tr>\n",
              "      <th>521124</th>\n",
              "      <td>12</td>\n",
              "      <td>Manual</td>\n",
              "      <td>0.19</td>\n",
              "      <td>2010</td>\n",
              "      <td>12</td>\n",
              "      <td>8</td>\n",
              "    </tr>\n",
              "    <tr>\n",
              "      <th>524776</th>\n",
              "      <td>1</td>\n",
              "      <td>Manual</td>\n",
              "      <td>15.00</td>\n",
              "      <td>2010</td>\n",
              "      <td>12</td>\n",
              "      <td>9</td>\n",
              "    </tr>\n",
              "  </tbody>\n",
              "</table>\n",
              "<p>425 rows × 6 columns</p>\n",
              "</div>\n",
              "      <button class=\"colab-df-convert\" onclick=\"convertToInteractive('df-bcf4d2cd-91c0-4d44-a083-db46b02ca601')\"\n",
              "              title=\"Convert this dataframe to an interactive table.\"\n",
              "              style=\"display:none;\">\n",
              "        \n",
              "  <svg xmlns=\"http://www.w3.org/2000/svg\" height=\"24px\"viewBox=\"0 0 24 24\"\n",
              "       width=\"24px\">\n",
              "    <path d=\"M0 0h24v24H0V0z\" fill=\"none\"/>\n",
              "    <path d=\"M18.56 5.44l.94 2.06.94-2.06 2.06-.94-2.06-.94-.94-2.06-.94 2.06-2.06.94zm-11 1L8.5 8.5l.94-2.06 2.06-.94-2.06-.94L8.5 2.5l-.94 2.06-2.06.94zm10 10l.94 2.06.94-2.06 2.06-.94-2.06-.94-.94-2.06-.94 2.06-2.06.94z\"/><path d=\"M17.41 7.96l-1.37-1.37c-.4-.4-.92-.59-1.43-.59-.52 0-1.04.2-1.43.59L10.3 9.45l-7.72 7.72c-.78.78-.78 2.05 0 2.83L4 21.41c.39.39.9.59 1.41.59.51 0 1.02-.2 1.41-.59l7.78-7.78 2.81-2.81c.8-.78.8-2.07 0-2.86zM5.41 20L4 18.59l7.72-7.72 1.47 1.35L5.41 20z\"/>\n",
              "  </svg>\n",
              "      </button>\n",
              "      \n",
              "  <style>\n",
              "    .colab-df-container {\n",
              "      display:flex;\n",
              "      flex-wrap:wrap;\n",
              "      gap: 12px;\n",
              "    }\n",
              "\n",
              "    .colab-df-convert {\n",
              "      background-color: #E8F0FE;\n",
              "      border: none;\n",
              "      border-radius: 50%;\n",
              "      cursor: pointer;\n",
              "      display: none;\n",
              "      fill: #1967D2;\n",
              "      height: 32px;\n",
              "      padding: 0 0 0 0;\n",
              "      width: 32px;\n",
              "    }\n",
              "\n",
              "    .colab-df-convert:hover {\n",
              "      background-color: #E2EBFA;\n",
              "      box-shadow: 0px 1px 2px rgba(60, 64, 67, 0.3), 0px 1px 3px 1px rgba(60, 64, 67, 0.15);\n",
              "      fill: #174EA6;\n",
              "    }\n",
              "\n",
              "    [theme=dark] .colab-df-convert {\n",
              "      background-color: #3B4455;\n",
              "      fill: #D2E3FC;\n",
              "    }\n",
              "\n",
              "    [theme=dark] .colab-df-convert:hover {\n",
              "      background-color: #434B5C;\n",
              "      box-shadow: 0px 1px 3px 1px rgba(0, 0, 0, 0.15);\n",
              "      filter: drop-shadow(0px 1px 2px rgba(0, 0, 0, 0.3));\n",
              "      fill: #FFFFFF;\n",
              "    }\n",
              "  </style>\n",
              "\n",
              "      <script>\n",
              "        const buttonEl =\n",
              "          document.querySelector('#df-bcf4d2cd-91c0-4d44-a083-db46b02ca601 button.colab-df-convert');\n",
              "        buttonEl.style.display =\n",
              "          google.colab.kernel.accessAllowed ? 'block' : 'none';\n",
              "\n",
              "        async function convertToInteractive(key) {\n",
              "          const element = document.querySelector('#df-bcf4d2cd-91c0-4d44-a083-db46b02ca601');\n",
              "          const dataTable =\n",
              "            await google.colab.kernel.invokeFunction('convertToInteractive',\n",
              "                                                     [key], {});\n",
              "          if (!dataTable) return;\n",
              "\n",
              "          const docLinkHtml = 'Like what you see? Visit the ' +\n",
              "            '<a target=\"_blank\" href=https://colab.research.google.com/notebooks/data_table.ipynb>data table notebook</a>'\n",
              "            + ' to learn more about interactive tables.';\n",
              "          element.innerHTML = '';\n",
              "          dataTable['output_type'] = 'display_data';\n",
              "          await google.colab.output.renderOutput(dataTable, element);\n",
              "          const docLink = document.createElement('div');\n",
              "          docLink.innerHTML = docLinkHtml;\n",
              "          element.appendChild(docLink);\n",
              "        }\n",
              "      </script>\n",
              "    </div>\n",
              "  </div>\n",
              "  "
            ]
          },
          "metadata": {},
          "execution_count": 139
        }
      ]
    },
    {
      "cell_type": "code",
      "source": [
        "# dataFrame_desc.pop()\n",
        "# dataFrame_list.pop()\n",
        "print(len(dataFrame_list))\n",
        "counter = 0\n",
        "for i in dataFrame_desc:\n",
        "  print(counter, i)\n",
        "  counter +=1"
      ],
      "metadata": {
        "colab": {
          "base_uri": "https://localhost:8080/"
        },
        "id": "iD-YlCKwoBd0",
        "outputId": "cf6ae351-2eb5-4e8b-f44d-9e39e603f086"
      },
      "execution_count": null,
      "outputs": [
        {
          "output_type": "stream",
          "name": "stdout",
          "text": [
            "2\n",
            "0 Week of Purchases based on country in 2009-2010\n",
            "1 Week of Purchases based on country in 2010-2011\n"
          ]
        }
      ]
    },
    {
      "cell_type": "code",
      "source": [
        "# dataFrame_list = []\n",
        "# dataFrame_desc = []"
      ],
      "metadata": {
        "id": "fqxrKefmBFHx"
      },
      "execution_count": null,
      "outputs": []
    },
    {
      "cell_type": "code",
      "source": [
        "def load(dfList, dfDesc):\n",
        "  with pd.ExcelWriter(r'/content/gdrive/MyDrive/Semester 6/Kapsel Statistika/Kapselstat Output.xlsx') as writer:\n",
        "    for i in range(len(dfList)):\n",
        "      dfList[i].to_excel(writer, sheet_name = \"Sheet\" + str(i), startrow = 3)\n",
        "      work = writer.book\n",
        "      worksheet = writer.sheets['Sheet' + str(i)]\n",
        "      worksheet.write(0,0, dfDesc[i])\n",
        "\n",
        "load(dataFrame_list, dataFrame_desc)"
      ],
      "metadata": {
        "id": "LINP15ORxSUF",
        "colab": {
          "base_uri": "https://localhost:8080/",
          "height": 205
        },
        "outputId": "f932e352-ba6e-46f2-9407-82e2dd27af77"
      },
      "execution_count": null,
      "outputs": [
        {
          "output_type": "error",
          "ename": "NameError",
          "evalue": "ignored",
          "traceback": [
            "\u001b[0;31m---------------------------------------------------------------------------\u001b[0m",
            "\u001b[0;31mNameError\u001b[0m                                 Traceback (most recent call last)",
            "\u001b[0;32m<ipython-input-2-194d301b2b76>\u001b[0m in \u001b[0;36m<cell line: 9>\u001b[0;34m()\u001b[0m\n\u001b[1;32m      7\u001b[0m       \u001b[0mworksheet\u001b[0m\u001b[0;34m.\u001b[0m\u001b[0mwrite\u001b[0m\u001b[0;34m(\u001b[0m\u001b[0;36m0\u001b[0m\u001b[0;34m,\u001b[0m\u001b[0;36m0\u001b[0m\u001b[0;34m,\u001b[0m \u001b[0mdfDesc\u001b[0m\u001b[0;34m[\u001b[0m\u001b[0mi\u001b[0m\u001b[0;34m]\u001b[0m\u001b[0;34m)\u001b[0m\u001b[0;34m\u001b[0m\u001b[0;34m\u001b[0m\u001b[0m\n\u001b[1;32m      8\u001b[0m \u001b[0;34m\u001b[0m\u001b[0m\n\u001b[0;32m----> 9\u001b[0;31m \u001b[0mload\u001b[0m\u001b[0;34m(\u001b[0m\u001b[0mdataFrame_list\u001b[0m\u001b[0;34m,\u001b[0m \u001b[0mdataFrame_desc\u001b[0m\u001b[0;34m)\u001b[0m\u001b[0;34m\u001b[0m\u001b[0;34m\u001b[0m\u001b[0m\n\u001b[0m",
            "\u001b[0;31mNameError\u001b[0m: name 'dataFrame_list' is not defined"
          ]
        }
      ]
    },
    {
      "cell_type": "code",
      "source": [
        "list = [\"Top 10 best selling product in 2009-2010\",\n",
        "\"Top 10 best selling product in 2010-2011\",\n",
        "\"Data of 2009-2010 best selling product in two time periods\",\n",
        "\"Top 10 best christmas product in 2009-2010\",\n",
        "\"Top 10 best christmas product in 2010-2011\",\n",
        "\"Data of 2009-2010 best christmas product in two time periods\",\n",
        "\"Top 10 countries with largest purchases in 2009-2010\",\n",
        "\"Top 10 countries with largest purchases in 2010-2011\",\n",
        "\"Data of 2009-2010 top countries in two time periods\",\n",
        "\"Top 10 customers with largest purchases in 2009-2010\",\n",
        "\"Top 10 customers with largest purchases in 2010-2011\",\n",
        "\"Data of 2009-2010 top customers in two time periods\",\n",
        "\"Group of Customers based on Spending Level in 2009-2010\",\n",
        "\"Group of Customers based on Spending Level in 2010-2011\",\n",
        "\"Group of Customers based on Purchase Level in 2009-2010\",\n",
        "\"Group of Customers based on Purchase Level in 2010-2011\",\n",
        "\"Total Revenue per Months in 2009-2010\",\n",
        "\"Total Revenue per Months in 2010-2011\",\n",
        "\"Quantity and Total Revenue in two time periods\",\n",
        "\"Week of Purchases based on country in 2009-2010\",\n",
        "\"Week of Purchases based on country in 2010-2011\",\n",
        "\"Sales Trend on Public Holidays in 2009-2010\",\n",
        "\"Sales Trend on Public Holidays in 2010-2011\"]\n",
        "counter = 1\n",
        "for i in list:\n",
        "  print(counter, i)\n",
        "  counter += 1"
      ],
      "metadata": {
        "id": "VbLmImYbUnoH",
        "colab": {
          "base_uri": "https://localhost:8080/"
        },
        "outputId": "2a40280d-da20-4cc5-9731-77904bd67a1e"
      },
      "execution_count": null,
      "outputs": [
        {
          "output_type": "stream",
          "name": "stdout",
          "text": [
            "1 Top 10 best selling product in 2009-2010\n",
            "2 Top 10 best selling product in 2010-2011\n",
            "3 Data of 2009-2010 best selling product in two time periods\n",
            "4 Top 10 best christmas product in 2009-2010\n",
            "5 Top 10 best christmas product in 2010-2011\n",
            "6 Data of 2009-2010 best christmas product in two time periods\n",
            "7 Top 10 countries with largest purchases in 2009-2010\n",
            "8 Top 10 countries with largest purchases in 2010-2011\n",
            "9 Data of 2009-2010 top countries in two time periods\n",
            "10 Top 10 customers with largest purchases in 2009-2010\n",
            "11 Top 10 customers with largest purchases in 2010-2011\n",
            "12 Data of 2009-2010 top customers in two time periods\n",
            "13 Group of Customers based on Spending Level in 2009-2010\n",
            "14 Group of Customers based on Spending Level in 2010-2011\n",
            "15 Group of Customers based on Purchase Level in 2009-2010\n",
            "16 Group of Customers based on Purchase Level in 2010-2011\n",
            "17 Total Revenue per Months in 2009-2010\n",
            "18 Total Revenue per Months in 2010-2011\n",
            "19 Quantity and Total Revenue in two time periods\n",
            "20 Week of Purchases based on country in 2009-2010\n",
            "21 Week of Purchases based on country in 2010-2011\n",
            "22 Sales Trend on Public Holidays in 2009-2010\n",
            "23 Sales Trend on Public Holidays in 2010-2011\n"
          ]
        }
      ]
    }
  ],
  "metadata": {
    "colab": {
      "provenance": [],
      "toc_visible": true
    },
    "kernelspec": {
      "display_name": "Python 3",
      "name": "python3"
    }
  },
  "nbformat": 4,
  "nbformat_minor": 0
}